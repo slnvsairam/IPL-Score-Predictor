{
  "cells": [
    {
      "cell_type": "markdown",
      "metadata": {
        "id": "view-in-github",
        "colab_type": "text"
      },
      "source": [
        "<a href=\"https://colab.research.google.com/github/slnvsairam/IPL-Score-Predictor/blob/main/IPL_score_prediction.ipynb\" target=\"_parent\"><img src=\"https://colab.research.google.com/assets/colab-badge.svg\" alt=\"Open In Colab\"/></a>"
      ]
    },
    {
      "cell_type": "markdown",
      "metadata": {
        "id": "9KG6SiMdATb0"
      },
      "source": [
        "# 1. importing the libraries\n",
        "\n"
      ]
    },
    {
      "cell_type": "code",
      "execution_count": null,
      "metadata": {
        "colab": {
          "base_uri": "https://localhost:8080/"
        },
        "id": "PgeuhnkTwctK",
        "outputId": "a8317a3c-ca4a-4154-9d7e-ef330c734a3a"
      },
      "outputs": [
        {
          "name": "stdout",
          "output_type": "stream",
          "text": [
            "Requirement already satisfied: nbstripout in /usr/local/lib/python3.11/dist-packages (0.8.1)\n",
            "Requirement already satisfied: nbformat in /usr/local/lib/python3.11/dist-packages (from nbstripout) (5.10.4)\n",
            "Requirement already satisfied: fastjsonschema>=2.15 in /usr/local/lib/python3.11/dist-packages (from nbformat->nbstripout) (2.21.1)\n",
            "Requirement already satisfied: jsonschema>=2.6 in /usr/local/lib/python3.11/dist-packages (from nbformat->nbstripout) (4.24.0)\n",
            "Requirement already satisfied: jupyter-core!=5.0.*,>=4.12 in /usr/local/lib/python3.11/dist-packages (from nbformat->nbstripout) (5.8.1)\n",
            "Requirement already satisfied: traitlets>=5.1 in /usr/local/lib/python3.11/dist-packages (from nbformat->nbstripout) (5.7.1)\n",
            "Requirement already satisfied: attrs>=22.2.0 in /usr/local/lib/python3.11/dist-packages (from jsonschema>=2.6->nbformat->nbstripout) (25.3.0)\n",
            "Requirement already satisfied: jsonschema-specifications>=2023.03.6 in /usr/local/lib/python3.11/dist-packages (from jsonschema>=2.6->nbformat->nbstripout) (2025.4.1)\n",
            "Requirement already satisfied: referencing>=0.28.4 in /usr/local/lib/python3.11/dist-packages (from jsonschema>=2.6->nbformat->nbstripout) (0.36.2)\n",
            "Requirement already satisfied: rpds-py>=0.7.1 in /usr/local/lib/python3.11/dist-packages (from jsonschema>=2.6->nbformat->nbstripout) (0.25.1)\n",
            "Requirement already satisfied: platformdirs>=2.5 in /usr/local/lib/python3.11/dist-packages (from jupyter-core!=5.0.*,>=4.12->nbformat->nbstripout) (4.3.8)\n",
            "Requirement already satisfied: typing-extensions>=4.4.0 in /usr/local/lib/python3.11/dist-packages (from referencing>=0.28.4->jsonschema>=2.6->nbformat->nbstripout) (4.14.0)\n",
            "Could not strip 'IPL_score_prediction.ipynb.ipynb': file not found\n"
          ]
        }
      ],
      "source": [
        "!pip install nbstripout\n",
        "!nbstripout IPL_score_prediction.ipynb.ipynb"
      ]
    },
    {
      "cell_type": "code",
      "execution_count": null,
      "metadata": {
        "id": "u_-D88M3AAhU"
      },
      "outputs": [],
      "source": [
        "import pandas as pd\n",
        "import numpy as np\n",
        "import matplotlib.pyplot as plt\n",
        "import seaborn as sns\n",
        "from sklearn import preprocessing\n",
        "import keras\n",
        "import tensorflow as tf"
      ]
    },
    {
      "cell_type": "markdown",
      "metadata": {
        "id": "QZZ9vFFjA7Z3"
      },
      "source": [
        "# 2. load the dataset"
      ]
    },
    {
      "cell_type": "code",
      "execution_count": null,
      "metadata": {
        "colab": {
          "base_uri": "https://localhost:8080/"
        },
        "id": "YTJRXvYTA-Fh",
        "outputId": "b145acfc-f75f-48bc-b81a-54ad2acba3f5"
      },
      "outputs": [
        {
          "name": "stdout",
          "output_type": "stream",
          "text": [
            "<class 'pandas.core.frame.DataFrame'>\n",
            "RangeIndex: 76014 entries, 0 to 76013\n",
            "Data columns (total 15 columns):\n",
            " #   Column          Non-Null Count  Dtype  \n",
            "---  ------          --------------  -----  \n",
            " 0   mid             76014 non-null  int64  \n",
            " 1   date            76014 non-null  object \n",
            " 2   venue           76014 non-null  object \n",
            " 3   bat_team        76014 non-null  object \n",
            " 4   bowl_team       76014 non-null  object \n",
            " 5   batsman         76014 non-null  object \n",
            " 6   bowler          76014 non-null  object \n",
            " 7   runs            76014 non-null  int64  \n",
            " 8   wickets         76014 non-null  int64  \n",
            " 9   overs           76014 non-null  float64\n",
            " 10  runs_last_5     76014 non-null  int64  \n",
            " 11  wickets_last_5  76014 non-null  int64  \n",
            " 12  striker         76014 non-null  int64  \n",
            " 13  non-striker     76014 non-null  int64  \n",
            " 14  total           76014 non-null  int64  \n",
            "dtypes: float64(1), int64(8), object(6)\n",
            "memory usage: 8.7+ MB\n"
          ]
        }
      ],
      "source": [
        "ipl = pd.read_csv('/content/sample_data/ipl_data.csv')\n",
        "ipl.head()\n",
        "ipl.info()"
      ]
    },
    {
      "cell_type": "markdown",
      "metadata": {
        "id": "rkh_NJu4BNiE"
      },
      "source": [
        "# 3. Dropping certain features"
      ]
    },
    {
      "cell_type": "markdown",
      "metadata": {
        "id": "aLl-9jZdEqRO"
      },
      "source": [
        "Removing unwanted features (or columns)"
      ]
    },
    {
      "cell_type": "code",
      "execution_count": null,
      "metadata": {
        "id": "DQcBSOc-BYDy"
      },
      "outputs": [],
      "source": [
        "#Dropping certain features\n",
        "df = ipl.drop(['date', 'runs', 'wickets', 'overs', 'runs_last_5', 'wickets_last_5','mid', 'striker', 'non-striker'], axis =1)"
      ]
    },
    {
      "cell_type": "code",
      "execution_count": null,
      "metadata": {
        "id": "Ij51XutWBbwG"
      },
      "outputs": [],
      "source": [
        "X = df.drop(['total'], axis =1)\n",
        "y = df['total']"
      ]
    },
    {
      "cell_type": "markdown",
      "metadata": {
        "id": "k_za4BbKBga1"
      },
      "source": [
        "# 4. label Encoding\n"
      ]
    },
    {
      "cell_type": "markdown",
      "metadata": {
        "id": "apQ-nrjrEUBY"
      },
      "source": [
        " Label Encoding is a method of converting categorical variables (strings or labels) into numeric values so that machine learning models can process them effectively, as most models require numeric inputs."
      ]
    },
    {
      "cell_type": "code",
      "execution_count": null,
      "metadata": {
        "id": "N3bhBgeDBh2H"
      },
      "outputs": [],
      "source": [
        "#Label Encoding\n",
        "\n",
        "from sklearn.preprocessing import LabelEncoder\n",
        "\n",
        "# Create a LabelEncoder object for each categorical feature\n",
        "venue_encoder = LabelEncoder()\n",
        "batting_team_encoder = LabelEncoder()\n",
        "bowling_team_encoder = LabelEncoder()\n",
        "striker_encoder = LabelEncoder()\n",
        "bowler_encoder = LabelEncoder()\n",
        "\n",
        "# Fit and transform the categorical features with label encoding\n",
        "X['venue'] = venue_encoder.fit_transform(X['venue'])\n",
        "X['bat_team'] = batting_team_encoder.fit_transform(X['bat_team'])\n",
        "X['bowl_team'] = bowling_team_encoder.fit_transform(X['bowl_team'])\n",
        "X['batsman'] = striker_encoder.fit_transform(X['batsman'])\n",
        "X['bowler'] = bowler_encoder.fit_transform(X['bowler'])"
      ]
    },
    {
      "cell_type": "markdown",
      "metadata": {
        "id": "PVa6cUsTBlM9"
      },
      "source": [
        "# 5. splitting data set into train and test set"
      ]
    },
    {
      "cell_type": "markdown",
      "metadata": {
        "id": "tccmYfDgE3j7"
      },
      "source": [
        "We split the dataset into training set and test set for training the model and for predicting the scores."
      ]
    },
    {
      "cell_type": "code",
      "execution_count": null,
      "metadata": {
        "id": "J8Gq6HLvBnyU"
      },
      "outputs": [],
      "source": [
        "# Train test Split\n",
        "from sklearn.model_selection import train_test_split\n",
        "X_train, X_test, y_train, y_test = train_test_split(X, y, test_size=0.3, random_state=42)"
      ]
    },
    {
      "cell_type": "markdown",
      "metadata": {
        "id": "MMlct3NQBqxR"
      },
      "source": [
        "# 6. Feature scaling"
      ]
    },
    {
      "cell_type": "markdown",
      "metadata": {
        "id": "iVQO3UoCGcXm"
      },
      "source": [
        "Min-Max Scaling is a common technique for normalizing data, especially when features have different ranges.\n",
        "\n",
        "Feature scaling is the process of normalizing or standardizing the range of independent variables (features) in a dataset."
      ]
    },
    {
      "cell_type": "markdown",
      "metadata": {
        "id": "lFo1-HAtGitM"
      },
      "source": [
        " The MinMaxScaler scales features to a specified range, typically [0, 1], which is useful for algorithms that rely on the scale of data, such as gradient-based methods or distance-based methods."
      ]
    },
    {
      "cell_type": "code",
      "execution_count": null,
      "metadata": {
        "id": "X91LpVAsBsaK"
      },
      "outputs": [],
      "source": [
        "from sklearn.preprocessing import MinMaxScaler\n",
        "\n",
        "scaler = MinMaxScaler()\n",
        "\n",
        "# Fit the scaler on the training data and transform both training and testing data\n",
        "X_train_scaled = scaler.fit_transform(X_train)\n",
        "X_test_scaled = scaler.transform(X_test)"
      ]
    },
    {
      "cell_type": "markdown",
      "metadata": {
        "id": "c3eO0d8EBvL6"
      },
      "source": [
        "# 7. Neural networks usage\n"
      ]
    },
    {
      "cell_type": "markdown",
      "metadata": {
        "id": "MAF6tkvwRcr4"
      },
      "source": [
        "The neural network defined in the code is a Fully Connected Feedforward Neural Network (FNN), also known as a Multilayer Perceptron (MLP)."
      ]
    },
    {
      "cell_type": "markdown",
      "metadata": {
        "id": "D_MyRJpwMxBz"
      },
      "source": [
        "**Keras** is a powerful and user-friendly deep learning API that simplifies the process of building and training models."
      ]
    },
    {
      "cell_type": "markdown",
      "metadata": {
        "id": "Px-imfs1RgPc"
      },
      "source": [
        "**Feedforward Neural Network (FNN):**\n",
        "This is a type of artificial neural network where the data flows in one direction: from the input layer, through hidden layers, to the output layer."
      ]
    },
    {
      "cell_type": "markdown",
      "metadata": {
        "id": "8h4G9YKNN4pT"
      },
      "source": [
        "ReLU is used in the hidden layers of your neural network to introduce nonlinearity and enable the model to learn complex patterns from the cricket data.\n",
        "\n",
        "ReLU is a popular and effective activation function due to its ability to introduce nonlinearity, computational efficiency"
      ]
    },
    {
      "cell_type": "code",
      "execution_count": null,
      "metadata": {
        "id": "JkdGwhcoBzuC"
      },
      "outputs": [],
      "source": [
        "# Define the neural network model\n",
        "model = keras.Sequential([\n",
        "    keras.layers.Input( shape=(X_train_scaled.shape[1],)),  # Input layer\n",
        "    keras.layers.Dense(512, activation='relu'),  # Hidden layer with 512 units and ReLU activation\n",
        "    keras.layers.Dense(216, activation='relu'),  # Hidden layer with 216 units and ReLU activation\n",
        "    keras.layers.Dense(1, activation='linear')  # Output layer with linear activation for regression\n",
        "])\n",
        "\n",
        "# Compile the model with Huber loss\n",
        "huber_loss = tf.keras.losses.Huber(delta=1.0)  # You can adjust the 'delta' parameter as needed\n",
        "model.compile(optimizer='adam', loss=huber_loss)  # Use Huber loss for regression"
      ]
    },
    {
      "cell_type": "markdown",
      "metadata": {
        "id": "w2nKozA3OtbB"
      },
      "source": [
        "Huber loss is often preferred over MSE in regression tasks when you suspect your data might have outliers."
      ]
    },
    {
      "cell_type": "markdown",
      "metadata": {
        "id": "FkjkUN0EPkEs"
      },
      "source": [
        "For errors (differences between predicted and actual values) that are less than delta, the Huber loss is calculated like Mean Squared Error (MSE), making it sensitive to smaller errors.\n",
        "For errors greater than delta, it behaves like Mean Absolute Error (MAE), making it less sensitive to large errors or outliers in your data."
      ]
    },
    {
      "cell_type": "markdown",
      "metadata": {
        "id": "3GJMtelGB21L"
      },
      "source": [
        "# 8. Model training"
      ]
    },
    {
      "cell_type": "markdown",
      "metadata": {
        "id": "hsy7ibnuRyUx"
      },
      "source": [
        "Train the neural network model on the training data."
      ]
    },
    {
      "cell_type": "code",
      "execution_count": null,
      "metadata": {
        "colab": {
          "base_uri": "https://localhost:8080/"
        },
        "id": "OdynFahUB4lf",
        "outputId": "06914811-2030-4460-acf9-ad4ef89e3afb"
      },
      "outputs": [
        {
          "name": "stdout",
          "output_type": "stream",
          "text": [
            "Epoch 1/10\n",
            "\u001b[1m832/832\u001b[0m \u001b[32m━━━━━━━━━━━━━━━━━━━━\u001b[0m\u001b[37m\u001b[0m \u001b[1m8s\u001b[0m 8ms/step - loss: 55.8105 - val_loss: 22.2939\n",
            "Epoch 2/10\n",
            "\u001b[1m832/832\u001b[0m \u001b[32m━━━━━━━━━━━━━━━━━━━━\u001b[0m\u001b[37m\u001b[0m \u001b[1m4s\u001b[0m 4ms/step - loss: 22.4858 - val_loss: 21.9346\n",
            "Epoch 3/10\n",
            "\u001b[1m832/832\u001b[0m \u001b[32m━━━━━━━━━━━━━━━━━━━━\u001b[0m\u001b[37m\u001b[0m \u001b[1m8s\u001b[0m 7ms/step - loss: 22.1937 - val_loss: 21.8360\n",
            "Epoch 4/10\n",
            "\u001b[1m832/832\u001b[0m \u001b[32m━━━━━━━━━━━━━━━━━━━━\u001b[0m\u001b[37m\u001b[0m \u001b[1m4s\u001b[0m 4ms/step - loss: 22.1337 - val_loss: 21.7984\n",
            "Epoch 5/10\n",
            "\u001b[1m832/832\u001b[0m \u001b[32m━━━━━━━━━━━━━━━━━━━━\u001b[0m\u001b[37m\u001b[0m \u001b[1m5s\u001b[0m 4ms/step - loss: 22.1403 - val_loss: 21.6654\n",
            "Epoch 6/10\n",
            "\u001b[1m832/832\u001b[0m \u001b[32m━━━━━━━━━━━━━━━━━━━━\u001b[0m\u001b[37m\u001b[0m \u001b[1m4s\u001b[0m 5ms/step - loss: 21.9603 - val_loss: 21.6009\n",
            "Epoch 7/10\n",
            "\u001b[1m832/832\u001b[0m \u001b[32m━━━━━━━━━━━━━━━━━━━━\u001b[0m\u001b[37m\u001b[0m \u001b[1m4s\u001b[0m 4ms/step - loss: 21.8821 - val_loss: 21.5616\n",
            "Epoch 8/10\n",
            "\u001b[1m832/832\u001b[0m \u001b[32m━━━━━━━━━━━━━━━━━━━━\u001b[0m\u001b[37m\u001b[0m \u001b[1m4s\u001b[0m 5ms/step - loss: 21.9511 - val_loss: 21.5271\n",
            "Epoch 9/10\n",
            "\u001b[1m832/832\u001b[0m \u001b[32m━━━━━━━━━━━━━━━━━━━━\u001b[0m\u001b[37m\u001b[0m \u001b[1m6s\u001b[0m 6ms/step - loss: 21.8219 - val_loss: 21.6675\n",
            "Epoch 10/10\n",
            "\u001b[1m832/832\u001b[0m \u001b[32m━━━━━━━━━━━━━━━━━━━━\u001b[0m\u001b[37m\u001b[0m \u001b[1m4s\u001b[0m 5ms/step - loss: 21.7088 - val_loss: 21.6001\n"
          ]
        },
        {
          "data": {
            "text/plain": [
              "<keras.src.callbacks.history.History at 0x797e12b1d790>"
            ]
          },
          "execution_count": 36,
          "metadata": {},
          "output_type": "execute_result"
        }
      ],
      "source": [
        "# Train the model\n",
        "model.fit(X_train_scaled, y_train, epochs=10, batch_size=64, validation_data=(X_test_scaled, y_test))"
      ]
    },
    {
      "cell_type": "markdown",
      "metadata": {
        "id": "WXIDdZwSEAdr"
      },
      "source": [
        "plotting"
      ]
    },
    {
      "cell_type": "markdown",
      "metadata": {
        "id": "a37ox5deR7e-"
      },
      "source": [
        "visualizing the training history of the model by plotting the loss values over the epochs."
      ]
    },
    {
      "cell_type": "code",
      "execution_count": null,
      "metadata": {
        "colab": {
          "base_uri": "https://localhost:8080/",
          "height": 448
        },
        "id": "-TcMoJL0ED93",
        "outputId": "7881db3b-23da-4f1b-d9a0-d3969684d674"
      },
      "outputs": [
        {
          "data": {
            "text/plain": [
              "<Axes: >"
            ]
          },
          "execution_count": 37,
          "metadata": {},
          "output_type": "execute_result"
        },
        {
          "data": {
            "image/png": "[encoded data removed]",
            "text/plain": [
              "<Figure size 640x480 with 1 Axes>"
            ]
          },
          "metadata": {},
          "output_type": "display_data"
        }
      ],
      "source": [
        "model_losses = pd.DataFrame(model.history.history)\n",
        "model_losses.plot()"
      ]
    },
    {
      "cell_type": "markdown",
      "metadata": {
        "id": "KwC4Ws4tEHmp"
      },
      "source": [
        "# 9. Making predictions And Evaluating performance"
      ]
    },
    {
      "cell_type": "markdown",
      "metadata": {
        "id": "FR3jLgw6SZM_"
      },
      "source": [
        "Making predictions with the trained model and evaluate the performance of those predictions using two common regression metrics: **Mean Absolute Error (MAE)** and **Mean Squared Error (MSE)**."
      ]
    },
    {
      "cell_type": "markdown",
      "metadata": {
        "id": "AFNP7KT-Sj8o"
      },
      "source": [
        "mean_absolute_error is a function from the sklearn.metrics module that calculates the Mean Absolute Error (MAE) between the true values (y_test) and the predicted values (predictions).\n",
        "\n",
        "![Screenshot 2024-11-28 203141.png](data:image/png;base64,iVBORw0KGgoAAAANSUhEUgAAAZsAAAB0CAYAAABT/Z8bAAAAAXNSR0IArs4c6QAAAARnQU1BAACxjwv8YQUAAAAJcEhZcwAADsMAAA7DAcdvqGQAABmeSURBVHhe7Z0H2FbjH8fvlOyRGQovKnsUChlZkcue2URmske2RIqUjBBSl5UZykiFiMySvULZM3vF3+fXud//eZ/3OecZ73ue5zy93891nave8+xz3+e379/dqKqq6l8nhBBCJMg8wb9CCCFEYkjZCCGESBwpGyGEEIkjZSOEECJxpGyEEEIkjpSNEEKIxJGyEUIIkThSNkIIIRJHykYIIUTiSNkIIYRIHCkbIYQQiSNlI4QQInGkbIQQQiSOlI0QQojEkbIRQgiROFI2QgghEkfKRgghROJI2QghhEgcKRshhBCJI2UjhBAicaRshBBCJI6UjRBCiMSRshFCCJE4UjZCCCESp1FVVdW/wf+FSA3t2rVze+yxh5s1a5YbNmyY23DDDd0222xjj40bN86NGTPG/i+EqAwaN2vW7ILg/0KkggUXXNCdc8457qeffnKdOnVyW2+9tVtttdXc+PHj3VprreU6d+7spk+f7mbMmBG8QgiRdhRGE6kDD2a++eZzU6dOdY0bN3Z//fWXu/jii929997rPv74Yzf//PO7xRZbLHi2EKISkLIRqeONN95wV155pWvZsqUpm6eeesp9+OGH9lhVVZX7448/zOsRQlQOUjYidaBYpkyZ4lq3bm2K5YMPPrDz5G2aN29u4bOJEyfaOSFEZSBlI1LJiiuu6JZbbjn37bffukmTJtm5Dh06uEUXXdS9+uqr7phjjnHdu3e380KI9CNlI/LikEMOcWPHjnW9evUKziTLGmus4RZffHE3c+ZM9+uvv9q5Nm3auN9++8299957bpNNNnHfffednRdCpB8pG5GVddZZxyrCbrnlFlMyxx13nAn/eeYpzZRZeeWV7d9p06bZv/DVV1+5Ro0ameJ7//333T333BM8IoRIO1pnI7Ky2WabuW7duplwp8x40003dUsuuaQbNWqUVYYlzTLLLGPFAJMnTw7OzIG8Dbz00kv2rxCiMpCyETlBwF944YWmAEqlbIQQcxcKowkhhEgcKRshhBCJI2UjhBAicaRshBBCJI6UjRBCiMRRNZrISX1Uo51++ulup512Cv4qDd9//73r37+/e/bZZ4MzQohyIWUjclIfyoaFmEceeaR1c/Z88cUX1nrm33+Lm4JLLbWUrf3hWGSRRaxpZ5h//vnH3X///a5v377BGSFEuZCyETmpr3U2F1xwgdthhx2qlcKff/7pbrvtNnfttdfa33WBPXB23HFHt+2227q1117btiEAtiQ4+eST3SeffGJ/CyHKg3I2omQMHz68eqsAaNq0qe3Guf322wdniof+aex3Q4POY4891r3wwgtu9uzZ1syTzdeEEOVFykaUDBTNjTfeaLkUD5ugHXrooW6VVVYJztQd+qnRy+3mm292f//9t7XeEUKUF20LHQNhI7oLQ1hANgQIS22++ebWfZktmddff30LTX399dcWBmvVqpWbd9557e9C+Oijjyy/wvbOPpz23xy0rQMmTJhgf9cXL7/8sv0OwoDffPNN9b442eD3DR482JqNvvLKK8HZyme//fZzl112mVtooYXy/l1ch3322ceUdkOb96WCeXnuuee6nj17WlPZzz77LHgkGrbdYGy23HJL9/TTT9sOtlGkcT6nMmfDxeQIJ3x//vlnC5OEwzDZQEHsv//+JsA8hFPY7ZGjEHr37m1bFI8cOdINHDgwOFsbrPI999zTLbzwwsGZ/EDw0lU5jYTzNFHUJX/DjdC+fXtr9Ankb4YNG2aeT33CTT1o0CDb2ZPcTRT8XrpcP/LII+76668PzlY2zMmjjz7aqvHIl+UL89mPK9ck1z0nCofxwOMeMmSIybV84TVnnXWW5SJPO+206u03MknjfE6lsiEEQiwfyxlrGoHEPiaXX365e/DBB4NnZQdrgRJbFBVKhp0eUVSEVAoZVPIIlOsS5sklVHfbbTfLFSywwALV39d/diZUY3klikXTtWtX+39DA4F26aWX1gifsYXAJZdcUpZS5blN2bBFBMbSjz/+aAonm1BCETOveS73BoLPw/xHmL399tuuR48ewVlRH1CZefjhh7vRo0e7fv36BWdrEjc2/vVPPPGEjXE20jifU5mzueaaa8yjuOOOO9wvv/zifv/9d9ekSRNL9sbBDdKuXbvq/enHjRtnHhLKpxBFw0Dvvvvupmgg7CVl44EHHnCdO3d2F110kd3cgOvqPbTwQbL60UcfNWXUkEMUWMt4jH6sAC/qsMMOs+sv6gZGzBJLLOHGjBkTaf1utdVWdr8wz1u2bBmcncPjjz/uXnzxRQvHINxE/YBxteuuu9oOtHH7McWNzd13320bCCJP6qO4plSkukCgRYsWthsjB8qG9RRRIKAIG7CzI94D8UzCVMWw9957uzXXXNOSy4DHkg+rrrqqfQ8UybvvvhucrQk3/sMPP2yK5ssvvwzONkwwALzi9VC2jEcpiqdTp05m2VLuHRcJwGuZOnWqhZdvuumm4Oz/4TzhTQw/GQD1wy677OKaN29u1ZJx4cm4sUGGPPPMMxZFYSlBpZBqZYMVgMLAsyE0FadsvEVMog1lQ+iMASsUPpMJgbLw2w6T0M4HEniE/gj5vfXWW8HZ2iBcOXheQ+fqq6+2RL5f2EmIcYsttjDDQRRHx44dbc6ywVyUVwMIuxNOOMHCZdkE32OPPWb3E7umdunSJTgrigX5RMERsilXqDjX2KCs8I4otKmUasvUKhsqobhhEPpcVKCyIhtYcQgoYqB4F2xdzGsmTpwYPCN/9tprL/Nkbr/9dpsUwHqQXDCRqNqCH374oYay4fsREgyHI/CaVOkzx0rjWoer2hj3gw46yOLVojCYh3iHhJ9ff/314GzxcP9hvFGVKOoGHuKyyy5rEY1iZFOYN99803366ad2rzDelUBqlc3qq69uVi7lql4oR1V7EZ8mfIYng4sKcS5qFIQfiJU++eSTVoZLCAFwVwmrxUF81ed2+C7hFetMBkpP/XdCifEZzz//vP3d0MHKGzFiRA1Pb/nll7fEdhrCNwcccIBVDV533XXVpfBhKC/mSAN++25yYVGhXJR4nz597JpTjBN3jal6IiTdunXr4Ez5qaTxCIPCxpCN62ZRyNgQ9UFGpmls4kitssF1J9k+adIkN2vWLOtzhbLBSwjDpCK3g+fARUfTF5uv2Xnnne0zfeLOJ6/JF+USeigjvh/hMb+eg9dQqcaBICVcBChFSqlZxyDmcOedd7rx48dX528Im26wwQYWHi0ndCM48MADrVKOtUVnnHFGDY+LOYNSxBPLnJvloKqqyuYdIeBsQo3veN5555kyJzzN9z7++OODR2tDGI3nUWxAsUC5qbTxCEOin3Bx1Nq0QseG3oLIOp5fCaRW2ZA7wUMgzIKyQQhxE4XzNjyHSjMWOBGfJoyFF1JMvgalxaSlVNB7IF7wZX5uNlB05GuwNLC8qOQhuXf22We7FVZYwcqc4+LnUZx44onmZfFexRxDhw4N3in9UJ4eXnjJ9aQEnhxaOcDTpdoHRTh27Fg7h/carg7y1ipzjtBGuVl66aXNOMpWdg+sQWMeYjUjsJmvGHZREBLmvQil0fi0nFTieITh+mE0R+VqCx0bFip7uZgr8pIGUqlswvkamDFjhmlwLr4vRwaEOoPjF0aSr8EiLjQmSmIfi4hywltvvTU466qrxcgB8dlRMNh4V4CCJLlNWSJWF+XX3KzFNoIkn8F6FFaBF3MMGDAgeKf0wzWiKWfY8qOzAIYAhkWpIdHO2FFqSigUzxXhG/aa27RpY/PDG0blhu/CPZBtRTqWM54PxguCDwGFsIoKtwFCj3Ayij+f3GWSpH08evXqZRWWXN9sFZV8L+QY8iyTYsaGyAvXI5/ISxpIpbIJ52sgfFG9h4GFs95669ngMqlw8X2+plDBjvXMGg/a3VN14w/yLMCNhncShY+TA14Rn893Iiw0ffp0uyHCVtZJJ51kEzMfuNlZ88B6iWKOtFl3uSB/Q2m4z5cBHusRRxwR/FU6uHasBWIsyckhLEi6+2vq5xwCBM8VMFy6detm/6YNQmuUmhMJYL0Xc56oAV54FMzl8FjkguuEN0/3iUKPXBWIxYxHKeE+RYbgWRWqmIsZGzwkfmulkEplE87XAJVlXFiEPkIdLc7EpA6dAQafr0EpvfPOO3YuH7AoqBIh/EYsGG/EH1hSviSXiR1FeH1NptWC9fX5559Xe1qE6vB6cKfTCJO7mKM+wbuZPHly9bXnWhUi8OoLDBkOFuz6ODrCxOPnHMIPrxhYeEwpalybnySJ88AxhFhNzr8IZgQiBl05OjYUQzHjUUoI5eOVZ7u3kQ9xMqTSxyYfUqlswvkawHJhYgGTrHv37mY9sBeKB/cZhcFr8CbyBa8GJUHi0a/y98fw4cOtRBklRyw8Cp+vIU6cWW56xRVX2KZhHhQbHlq+YT6EFl5c2OMq5Cg0lrvRRhsVddQ3rL8hPILCobAiqq1HKcCDxmjA6GF9g8fnCKmW9IYROYNcHSeShLmcC5Qh3xMFHv492cBDK8RKZ6yopjr//PMLPlAk+VDIeKQF5FI+BmYhY4MMRO5UCk2Cf1MD+Rri9LiTYZhYKCG/OyPuNFaAB2+IWHUh62uoEsOzYZJnqwyjjh03lQGNshixWHzIJK7cFPgsNvfCxc/XYiFpSHuLOKsoDiy8coSg6gorozEs+P4obG94lAPmFtcfAygcovU5Qn+O3BLdkkmmY8Sg7CnSYD4z9hgZlBIzf3k/VvdTccf78BjCBUudtV7kJvHmeY4PE+EV8xnE9vku7EL63HPP2WMeBBoKOq5CCeOA9ycnyWcefPDBZpSceeaZwTP+D8YOyob7oBzeZTbyGQ/kRPg68jv53RgCeAwYqswpcrVRY4NM4P6mIrJDhw5m8JKDpUDBw/WhtRXeCPKC9U1RMDbIksz2M2EKGRu8OOYav6+c90e+pM6z4cIy2JlusE/Wr7TSSiasw1YQk6XQ9TVMIgQC5YPUtOeCxVjZIF/jLVk+Ozz5w6AojzrqKJsgtJrIF0qkqcLJ9LryPSpR0RAiRVBwLWmsmu+YJo2fg+DnnM8PINwQ8FHChgISvNp9993XnkcVJR46RgxKhDH2cxirHaOLg3kKXBOULsKKBovMI64NrwtDGAdvHCEURWa+g8/BI8gGC6l5L35XPm3wS0nceABKkvuTakYa5RLO5n6nsIju4r7oJGpseJzncR8R2n3ttdesrJoKUcALoUEmBiRNMZmvPBfFlQ2qx7jueCRRFDI2zDnmDykHb5CkmdQoGwaOcBPWIDcYRQIkyvzN5sufmTDeskAx8Xyeh8BnouFdxIWPmJTcuMRH+QwGCusyDJ/JexJ/5z0BARB+X//ZWDw8xnfjO3IufDDRadDJ52H94PnENeBr6DAP6GiLtUZD1jQoGsIyYW8Ba5YiAEKrWJQYRggaKv8Q9ljA9913n407ns1DDz1kxhH5REKDbKVAmIcCDiopw/uN8D68Lly6z3zEemYueo+e13IeQReGEDLfiXUxUUUKCGG8FHKbrOXAkOL9ssFvRtghKNMi0PIdj759+9r/uW5cZ8LiGG9EFfCC+O1xY4OXinGLN4MHSY8yFBwKhWuL0sILYXkB78H7s3TC91TMhHwunldcSL6QsUG5YnzwWyuBVCgbXEXKdLEmmEDcRLR2IUnvFQHVGlhXtKTBvWVBF+3oqWKhcSYXnQNFwl4RhMgyQUFgDeKSomgYePZUoTIMReBhEtHeGyuGyQTEUfksXo/C6t+/v/1NiAvrggOX3FfW+IPnszc+FiKTaG5K+NU3WPgsYsPyY81NWq4VQgahxVykw7dfQOzDtoXkB7CsyWuceuqpJpjyAeuWakiqI9mTh3J4ilmwoDPzQxgzVD/i+fAds8H9g/WM98guqQgzX2iTCcKWz8mMNJSTuo4HxSfci8iAMJljQ26I+xqFzjVHqaDEvcfEtcGwCHtYcWAkoNTiKhULGRvCiSi2NI1NHKlQNlgEVH75ZLM/qDrxAofn4Or6zbW4wCiUzNdwbLzxxqaIMsEyQzlkPh+3ecqUKcGznH0GkynzeRy0xqHqhNdkezzuwGrHchK1IWTBplAYG3iu4TBpuUFIYIAghG644QYzgvzaDkI2mfFyjJ6oUAkeWyYIyChrGBB4CCCEGjk8DkI+3DMUtoTBysUqRjFF9czCkKLJI54j0YTwXimZIMQx8sJVX+Wm0PHIhGuNZ8Q1DZM5NjyOUsIr8td9u+22s3sf45cxpigoLDviIAfDUga8FQyIbOQ7NhjOGCDMHd+ZJO2kLmcjGh54sqeccopZfHfddZcJkDTA9yI0Ro6NkAyGD5YmMX6S9IRss5V9k+PAsyBHl8+iWp/UDxPOuSCgEGpY1GGrGAUd9sg9FNcgcPHA+Q3ZwGCiq3NcmNKXGPMcnltuih2PTMK5jjgQ5HhLhMk9fAeiITzG5/EY1zkfMAS47hSMYHhGkc/YYFBTzIAnxFEJSNmIssNqa0IiJFlJxKYFvNt1113XBD8CAhDwxPIROgh1wjhhwqXHWL6ETQrFJ7u9h4TwoWkrsX5CtR7CLORyMkFQsQYNxVSXVj/kJvgO5CzSQDHjAXgovmM8z/PNO3MV6rDIknwPRRi8DgiJE+4nN8e4YFSEPUgUH4osCtIAhOtQFnz3YuC74NViUHDPVAqNmzVrlv/m5ELUMygabmBCEeTafEFGfcGNSXdgCj4QHlFgwbNNBWEYH5agQIRzeBaEMwh/kO8juUzXbtoIZX5fPg/FSY4PwYPlTeiWBDaJdl5LPB5h5TtkEKpp27at5RDwVPAo8HZQOFjACEtCu8ToeYzrRQk0Qo1wi++KHgbLG6HKd0D5FHpdWdtFLhQlN2jQoOBseSlmPAh5MbZcB5QVoTDvQZODYf5FjY1fHI6yQWkTtiePM3LkSAuJoWwYZ0JrjB+hTUJbKELCj4TKMpUf3x0FxdiQCysmL8lvYD7TaSNchh0m23wuN43+cz9r+u9ClAjyDdw43BBUYMWFDYqFz8D6R1gjJKLAm8i2Zzu5Ab4jiWEEGdVeCCqUSBRUR2GB83sK+U0oFnItKF4EIhZ8pjDivVFI5AwQdnFQLEORC++BIs8XLG5yB8A1SWJciqXQ8cBTZoMxCpCoFuWaokBz5XUyYWyiXkv+BEOAvBEFA1w/yqRRLFEwHrwnSrOQ/CSvIbfJmiA2Vov6HVHzuZxI2YiygCCkuy0hhaQEGlWOLMjDyqeKK65EFAFOTy8qf3wRytwAHhAltFjY+f6uwYMHWy6id+/eqVI0xRBWNnEGQqnBA8YrwyhBsecyHAADhOdiaFBBG6cw0zifpWxELVhYhoCi7JuYMKutsagRXFTVAYlYXPg46y0KrDPfiJSqwWJCCXHwXXv27GnhD0IVrKVAcIqGA4IZD4i8E/kaFknSFYC5IMqDlI2oASEA1gdRqUPcl6Q0NynxZ9/7jXg0+QXi1j169AhemR8oGkpVsZzJN9RniTP5DHIN4Sosfgd91dJQTSVKB+PPguvw6nvCXJWw0n5uRcpG1IBFlaxnYsdAWnzgyRCHxiL0zTBJlrLGgdJPGijmEwIAnwvgX6qlCKEVC+WrLGgkSc7/yXVkqwJiJT5emhCivEjZiBoQ42ZxG50P2EiOVdKsuA57MJSaopQKUTZYmnRdQHmxdqEUsHiPECAdpIUQ5UXrbEQNUCxUsFAmiueAV5PZRZvKGypzSFDmG5ag3xllor5DbSkOVtynaeW7EA0ZeTYiK4TQCD+x5oBSy7BSGTFihOVsqHSh4kUIIXIhz0ZkhY2oWD2e2e2XpoQsrit0R1QhRMNGykbUgvwKpaOsYs9UKFR6sQKa5D6rtlnLwj4rrJwWQogopGxELXy+xu/xEYYFciT4UUIskqQkmiowdikUQogopGxELegRhXdDzy3W1XjwdlgfQ5UXioYW6KzFGT9+/JwnCCFEBFI2ohYs5CRfg7cSztegYGjqh2fDWhtKoEeNGmWLPoUQIg5Vo4lasOgyrpkgeRv20mADu7r2zqKJISG7+mpZQxcBihoqZUMpIRoKUjaibKBo6I3Gni10fS5W4dACh9bvtG1nESoLOdPS6VYIMQeF0UTZoPiAhp50462LZ8N+Ma1atbIW8jTeFEKkD3k2Yq6BrQq6dOlibXbk2QiRLuTZiLLA4tCBAwfanja+Q7MQYu5Fno0oOVSyde3a1U2bNs2UDjst4olQlEA4LG4Pdw/l1+xoGS5gkGcjRHqRZyNKTseOHa1TNAqDHAvNOaFly5auffv2eR10j+b5QojKQJ6NKDkoi5kzZ9pWvbS+yWz0WSzybIRIL/JsRMlhG4O2bdu6Fi1aWIeC+lA0Qoh0I89GlIU+ffpYOG3w4MG2zw35G7bw7datm2vatGnwrGjYr2bo0KE1tpWWZyNEepGyEWWBogBAKVAscNVVV5nCqQtSNkKkFykbURbwaEjw01l6woQJbsiQIcEjhTNgwADXrl072z2USjbec/bs2W706NGuX79+wbOEEOVEykaUBdbWdOjQwfbFUc5GiLkfKRshhBCJo2o0IYQQiSNlI4QQInGkbIQQQiSOlI0QQojEkbIRQgiROFI2QgghEkfKRgghROJI2QghhEgcKRshhBCJI2UjhBAicaRshBBCJI6UjRBCiMSRshFCCJE4UjZCCCESR8pGCCFE4kjZCCGESBwpGyGEEIkjZSOEECJxpGyEEEIkjpSNEEKIxJGyEUIIkThSNkIIIRLGuf8BDnQeLN5LHk4AAAAASUVORK5CYII=)"
      ]
    },
    {
      "cell_type": "markdown",
      "metadata": {
        "id": "dhTdmGc4S-rB"
      },
      "source": [
        "![Screenshot 2024-11-28 203314.png](data:image/png;base64,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)"
      ]
    },
    {
      "cell_type": "code",
      "execution_count": null,
      "metadata": {
        "colab": {
          "base_uri": "https://localhost:8080/"
        },
        "id": "4Tnn7ocFEKmR",
        "outputId": "ba6d7a9a-6dfe-4b05-edd0-1f31eeb8d07f"
      },
      "outputs": [
        {
          "name": "stdout",
          "output_type": "stream",
          "text": [
            "\u001b[1m713/713\u001b[0m \u001b[32m━━━━━━━━━━━━━━━━━━━━\u001b[0m\u001b[37m\u001b[0m \u001b[1m1s\u001b[0m 1ms/step\n"
          ]
        },
        {
          "data": {
            "text/plain": [
              "22.094606399536133"
            ]
          },
          "execution_count": 38,
          "metadata": {},
          "output_type": "execute_result"
        }
      ],
      "source": [
        "# Make predictions\n",
        "predictions = model.predict(X_test_scaled)\n",
        "\n",
        "from sklearn.metrics import mean_absolute_error,mean_squared_error\n",
        "mean_absolute_error(y_test,predictions)\n",
        "\n",
        "#it gives the error occured between predicted score and actual score"
      ]
    },
    {
      "cell_type": "markdown",
      "metadata": {
        "id": "90bNy8sqEQ03"
      },
      "source": [
        "# 10. Interactive Score Prediction Interface with Widgets\n"
      ]
    },
    {
      "cell_type": "markdown",
      "metadata": {
        "id": "rMZyq2qtU_8Q"
      },
      "source": [
        " Gives interactive interface using ipywidgets to allow a user to input features and predict a score using the trained neural network model. The widgets (dropdowns and buttons) allow the user to select different values for the game scenario, and then the model will predict the score based on the selected inputs."
      ]
    },
    {
      "cell_type": "code",
      "execution_count": null,
      "metadata": {
        "colab": {
          "base_uri": "https://localhost:8080/"
        },
        "id": "qGlYhp3quK0p",
        "outputId": "82ad4825-373a-4110-d285-c7c3819ab1d9"
      },
      "outputs": [
        {
          "name": "stdout",
          "output_type": "stream",
          "text": [
            "Requirement already satisfied: ipywidgets in /usr/local/lib/python3.11/dist-packages (7.7.1)\n",
            "Requirement already satisfied: ipykernel>=4.5.1 in /usr/local/lib/python3.11/dist-packages (from ipywidgets) (6.17.1)\n",
            "Requirement already satisfied: ipython-genutils~=0.2.0 in /usr/local/lib/python3.11/dist-packages (from ipywidgets) (0.2.0)\n",
            "Requirement already satisfied: traitlets>=4.3.1 in /usr/local/lib/python3.11/dist-packages (from ipywidgets) (5.7.1)\n",
            "Requirement already satisfied: widgetsnbextension~=3.6.0 in /usr/local/lib/python3.11/dist-packages (from ipywidgets) (3.6.10)\n",
            "Requirement already satisfied: ipython>=4.0.0 in /usr/local/lib/python3.11/dist-packages (from ipywidgets) (7.34.0)\n",
            "Requirement already satisfied: jupyterlab-widgets>=1.0.0 in /usr/local/lib/python3.11/dist-packages (from ipywidgets) (3.0.15)\n",
            "Requirement already satisfied: debugpy>=1.0 in /usr/local/lib/python3.11/dist-packages (from ipykernel>=4.5.1->ipywidgets) (1.8.0)\n",
            "Requirement already satisfied: jupyter-client>=6.1.12 in /usr/local/lib/python3.11/dist-packages (from ipykernel>=4.5.1->ipywidgets) (6.1.12)\n",
            "Requirement already satisfied: matplotlib-inline>=0.1 in /usr/local/lib/python3.11/dist-packages (from ipykernel>=4.5.1->ipywidgets) (0.1.7)\n",
            "Requirement already satisfied: nest-asyncio in /usr/local/lib/python3.11/dist-packages (from ipykernel>=4.5.1->ipywidgets) (1.6.0)\n",
            "Requirement already satisfied: packaging in /usr/local/lib/python3.11/dist-packages (from ipykernel>=4.5.1->ipywidgets) (24.2)\n",
            "Requirement already satisfied: psutil in /usr/local/lib/python3.11/dist-packages (from ipykernel>=4.5.1->ipywidgets) (5.9.5)\n",
            "Requirement already satisfied: pyzmq>=17 in /usr/local/lib/python3.11/dist-packages (from ipykernel>=4.5.1->ipywidgets) (24.0.1)\n",
            "Requirement already satisfied: tornado>=6.1 in /usr/local/lib/python3.11/dist-packages (from ipykernel>=4.5.1->ipywidgets) (6.4.2)\n",
            "Requirement already satisfied: setuptools>=18.5 in /usr/local/lib/python3.11/dist-packages (from ipython>=4.0.0->ipywidgets) (75.2.0)\n",
            "Collecting jedi>=0.16 (from ipython>=4.0.0->ipywidgets)\n",
            "  Downloading jedi-0.19.2-py2.py3-none-any.whl.metadata (22 kB)\n",
            "Requirement already satisfied: decorator in /usr/local/lib/python3.11/dist-packages (from ipython>=4.0.0->ipywidgets) (4.4.2)\n",
            "Requirement already satisfied: pickleshare in /usr/local/lib/python3.11/dist-packages (from ipython>=4.0.0->ipywidgets) (0.7.5)\n",
            "Requirement already satisfied: prompt-toolkit!=3.0.0,!=3.0.1,<3.1.0,>=2.0.0 in /usr/local/lib/python3.11/dist-packages (from ipython>=4.0.0->ipywidgets) (3.0.51)\n",
            "Requirement already satisfied: pygments in /usr/local/lib/python3.11/dist-packages (from ipython>=4.0.0->ipywidgets) (2.19.1)\n",
            "Requirement already satisfied: backcall in /usr/local/lib/python3.11/dist-packages (from ipython>=4.0.0->ipywidgets) (0.2.0)\n",
            "Requirement already satisfied: pexpect>4.3 in /usr/local/lib/python3.11/dist-packages (from ipython>=4.0.0->ipywidgets) (4.9.0)\n",
            "Requirement already satisfied: notebook>=4.4.1 in /usr/local/lib/python3.11/dist-packages (from widgetsnbextension~=3.6.0->ipywidgets) (6.5.7)\n",
            "Requirement already satisfied: parso<0.9.0,>=0.8.4 in /usr/local/lib/python3.11/dist-packages (from jedi>=0.16->ipython>=4.0.0->ipywidgets) (0.8.4)\n",
            "Requirement already satisfied: jupyter-core>=4.6.0 in /usr/local/lib/python3.11/dist-packages (from jupyter-client>=6.1.12->ipykernel>=4.5.1->ipywidgets) (5.8.1)\n",
            "Requirement already satisfied: python-dateutil>=2.1 in /usr/local/lib/python3.11/dist-packages (from jupyter-client>=6.1.12->ipykernel>=4.5.1->ipywidgets) (2.9.0.post0)\n",
            "Requirement already satisfied: jinja2 in /usr/local/lib/python3.11/dist-packages (from notebook>=4.4.1->widgetsnbextension~=3.6.0->ipywidgets) (3.1.6)\n",
            "Requirement already satisfied: argon2-cffi in /usr/local/lib/python3.11/dist-packages (from notebook>=4.4.1->widgetsnbextension~=3.6.0->ipywidgets) (25.1.0)\n",
            "Requirement already satisfied: nbformat in /usr/local/lib/python3.11/dist-packages (from notebook>=4.4.1->widgetsnbextension~=3.6.0->ipywidgets) (5.10.4)\n",
            "Requirement already satisfied: nbconvert>=5 in /usr/local/lib/python3.11/dist-packages (from notebook>=4.4.1->widgetsnbextension~=3.6.0->ipywidgets) (7.16.6)\n",
            "Requirement already satisfied: Send2Trash>=1.8.0 in /usr/local/lib/python3.11/dist-packages (from notebook>=4.4.1->widgetsnbextension~=3.6.0->ipywidgets) (1.8.3)\n",
            "Requirement already satisfied: terminado>=0.8.3 in /usr/local/lib/python3.11/dist-packages (from notebook>=4.4.1->widgetsnbextension~=3.6.0->ipywidgets) (0.18.1)\n",
            "Requirement already satisfied: prometheus-client in /usr/local/lib/python3.11/dist-packages (from notebook>=4.4.1->widgetsnbextension~=3.6.0->ipywidgets) (0.22.1)\n",
            "Requirement already satisfied: nbclassic>=0.4.7 in /usr/local/lib/python3.11/dist-packages (from notebook>=4.4.1->widgetsnbextension~=3.6.0->ipywidgets) (1.3.1)\n",
            "Requirement already satisfied: ptyprocess>=0.5 in /usr/local/lib/python3.11/dist-packages (from pexpect>4.3->ipython>=4.0.0->ipywidgets) (0.7.0)\n",
            "Requirement already satisfied: wcwidth in /usr/local/lib/python3.11/dist-packages (from prompt-toolkit!=3.0.0,!=3.0.1,<3.1.0,>=2.0.0->ipython>=4.0.0->ipywidgets) (0.2.13)\n",
            "Requirement already satisfied: platformdirs>=2.5 in /usr/local/lib/python3.11/dist-packages (from jupyter-core>=4.6.0->jupyter-client>=6.1.12->ipykernel>=4.5.1->ipywidgets) (4.3.8)\n",
            "Requirement already satisfied: notebook-shim>=0.2.3 in /usr/local/lib/python3.11/dist-packages (from nbclassic>=0.4.7->notebook>=4.4.1->widgetsnbextension~=3.6.0->ipywidgets) (0.2.4)\n",
            "Requirement already satisfied: beautifulsoup4 in /usr/local/lib/python3.11/dist-packages (from nbconvert>=5->notebook>=4.4.1->widgetsnbextension~=3.6.0->ipywidgets) (4.13.4)\n",
            "Requirement already satisfied: bleach!=5.0.0 in /usr/local/lib/python3.11/dist-packages (from bleach[css]!=5.0.0->nbconvert>=5->notebook>=4.4.1->widgetsnbextension~=3.6.0->ipywidgets) (6.2.0)\n",
            "Requirement already satisfied: defusedxml in /usr/local/lib/python3.11/dist-packages (from nbconvert>=5->notebook>=4.4.1->widgetsnbextension~=3.6.0->ipywidgets) (0.7.1)\n",
            "Requirement already satisfied: jupyterlab-pygments in /usr/local/lib/python3.11/dist-packages (from nbconvert>=5->notebook>=4.4.1->widgetsnbextension~=3.6.0->ipywidgets) (0.3.0)\n",
            "Requirement already satisfied: markupsafe>=2.0 in /usr/local/lib/python3.11/dist-packages (from nbconvert>=5->notebook>=4.4.1->widgetsnbextension~=3.6.0->ipywidgets) (3.0.2)\n",
            "Requirement already satisfied: mistune<4,>=2.0.3 in /usr/local/lib/python3.11/dist-packages (from nbconvert>=5->notebook>=4.4.1->widgetsnbextension~=3.6.0->ipywidgets) (3.1.3)\n",
            "Requirement already satisfied: nbclient>=0.5.0 in /usr/local/lib/python3.11/dist-packages (from nbconvert>=5->notebook>=4.4.1->widgetsnbextension~=3.6.0->ipywidgets) (0.10.2)\n",
            "Requirement already satisfied: pandocfilters>=1.4.1 in /usr/local/lib/python3.11/dist-packages (from nbconvert>=5->notebook>=4.4.1->widgetsnbextension~=3.6.0->ipywidgets) (1.5.1)\n",
            "Requirement already satisfied: fastjsonschema>=2.15 in /usr/local/lib/python3.11/dist-packages (from nbformat->notebook>=4.4.1->widgetsnbextension~=3.6.0->ipywidgets) (2.21.1)\n",
            "Requirement already satisfied: jsonschema>=2.6 in /usr/local/lib/python3.11/dist-packages (from nbformat->notebook>=4.4.1->widgetsnbextension~=3.6.0->ipywidgets) (4.24.0)\n",
            "Requirement already satisfied: six>=1.5 in /usr/local/lib/python3.11/dist-packages (from python-dateutil>=2.1->jupyter-client>=6.1.12->ipykernel>=4.5.1->ipywidgets) (1.17.0)\n",
            "Requirement already satisfied: argon2-cffi-bindings in /usr/local/lib/python3.11/dist-packages (from argon2-cffi->notebook>=4.4.1->widgetsnbextension~=3.6.0->ipywidgets) (21.2.0)\n",
            "Requirement already satisfied: webencodings in /usr/local/lib/python3.11/dist-packages (from bleach!=5.0.0->bleach[css]!=5.0.0->nbconvert>=5->notebook>=4.4.1->widgetsnbextension~=3.6.0->ipywidgets) (0.5.1)\n",
            "Requirement already satisfied: tinycss2<1.5,>=1.1.0 in /usr/local/lib/python3.11/dist-packages (from bleach[css]!=5.0.0->nbconvert>=5->notebook>=4.4.1->widgetsnbextension~=3.6.0->ipywidgets) (1.4.0)\n",
            "Requirement already satisfied: attrs>=22.2.0 in /usr/local/lib/python3.11/dist-packages (from jsonschema>=2.6->nbformat->notebook>=4.4.1->widgetsnbextension~=3.6.0->ipywidgets) (25.3.0)\n",
            "Requirement already satisfied: jsonschema-specifications>=2023.03.6 in /usr/local/lib/python3.11/dist-packages (from jsonschema>=2.6->nbformat->notebook>=4.4.1->widgetsnbextension~=3.6.0->ipywidgets) (2025.4.1)\n",
            "Requirement already satisfied: referencing>=0.28.4 in /usr/local/lib/python3.11/dist-packages (from jsonschema>=2.6->nbformat->notebook>=4.4.1->widgetsnbextension~=3.6.0->ipywidgets) (0.36.2)\n",
            "Requirement already satisfied: rpds-py>=0.7.1 in /usr/local/lib/python3.11/dist-packages (from jsonschema>=2.6->nbformat->notebook>=4.4.1->widgetsnbextension~=3.6.0->ipywidgets) (0.25.1)\n",
            "Requirement already satisfied: jupyter-server<3,>=1.8 in /usr/local/lib/python3.11/dist-packages (from notebook-shim>=0.2.3->nbclassic>=0.4.7->notebook>=4.4.1->widgetsnbextension~=3.6.0->ipywidgets) (1.16.0)\n",
            "Requirement already satisfied: cffi>=1.0.1 in /usr/local/lib/python3.11/dist-packages (from argon2-cffi-bindings->argon2-cffi->notebook>=4.4.1->widgetsnbextension~=3.6.0->ipywidgets) (1.17.1)\n",
            "Requirement already satisfied: soupsieve>1.2 in /usr/local/lib/python3.11/dist-packages (from beautifulsoup4->nbconvert>=5->notebook>=4.4.1->widgetsnbextension~=3.6.0->ipywidgets) (2.7)\n",
            "Requirement already satisfied: typing-extensions>=4.0.0 in /usr/local/lib/python3.11/dist-packages (from beautifulsoup4->nbconvert>=5->notebook>=4.4.1->widgetsnbextension~=3.6.0->ipywidgets) (4.14.0)\n",
            "Requirement already satisfied: pycparser in /usr/local/lib/python3.11/dist-packages (from cffi>=1.0.1->argon2-cffi-bindings->argon2-cffi->notebook>=4.4.1->widgetsnbextension~=3.6.0->ipywidgets) (2.22)\n",
            "Requirement already satisfied: anyio>=3.1.0 in /usr/local/lib/python3.11/dist-packages (from jupyter-server<3,>=1.8->notebook-shim>=0.2.3->nbclassic>=0.4.7->notebook>=4.4.1->widgetsnbextension~=3.6.0->ipywidgets) (4.9.0)\n",
            "Requirement already satisfied: websocket-client in /usr/local/lib/python3.11/dist-packages (from jupyter-server<3,>=1.8->notebook-shim>=0.2.3->nbclassic>=0.4.7->notebook>=4.4.1->widgetsnbextension~=3.6.0->ipywidgets) (1.8.0)\n",
            "Requirement already satisfied: idna>=2.8 in /usr/local/lib/python3.11/dist-packages (from anyio>=3.1.0->jupyter-server<3,>=1.8->notebook-shim>=0.2.3->nbclassic>=0.4.7->notebook>=4.4.1->widgetsnbextension~=3.6.0->ipywidgets) (3.10)\n",
            "Requirement already satisfied: sniffio>=1.1 in /usr/local/lib/python3.11/dist-packages (from anyio>=3.1.0->jupyter-server<3,>=1.8->notebook-shim>=0.2.3->nbclassic>=0.4.7->notebook>=4.4.1->widgetsnbextension~=3.6.0->ipywidgets) (1.3.1)\n",
            "Downloading jedi-0.19.2-py2.py3-none-any.whl (1.6 MB)\n",
            "\u001b[2K   \u001b[90m━━━━━━━━━━━━━━━━━━━━━━━━━━━━━━━━━━━━━━━━\u001b[0m \u001b[32m1.6/1.6 MB\u001b[0m \u001b[31m17.6 MB/s\u001b[0m eta \u001b[36m0:00:00\u001b[0m\n",
            "\u001b[?25hInstalling collected packages: jedi\n",
            "Successfully installed jedi-0.19.2\n"
          ]
        }
      ],
      "source": [
        "!pip install ipywidgets"
      ]
    },
    {
      "cell_type": "code",
      "execution_count": null,
      "metadata": {
        "id": "nK7xTDYIET_D"
      },
      "outputs": [],
      "source": [
        "import ipywidgets as widgets\n",
        "from IPython.display import display, clear_output\n",
        "\n",
        "import warnings\n",
        "warnings.filterwarnings(\"ignore\")\n",
        "\n",
        "venue = widgets.Dropdown(options=df['venue'].unique().tolist(),description='Venue:')\n",
        "batting_team = widgets.Dropdown(options =df['bat_team'].unique().tolist(),  description='Batting Team:')\n",
        "bowling_team = widgets.Dropdown(options=df['bowl_team'].unique().tolist(),  description='Bowling Team:')\n",
        "striker = widgets.Dropdown(options=df['batsman'].unique().tolist(), description='Striker:')\n",
        "bowler = widgets.Dropdown(options=df['bowler'].unique().tolist(), description='Bowler:')\n",
        "\n",
        "predict_button = widgets.Button(description=\"Predict Score\")\n",
        "\n",
        "def predict_score(b):\n",
        "    with output:\n",
        "        clear_output()  # Clear the previous output\n",
        "\n",
        "\n",
        "        # Decode the encoded values back to their original values\n",
        "        decoded_venue = venue_encoder.transform([venue.value])\n",
        "        decoded_batting_team = batting_team_encoder.transform([batting_team.value])\n",
        "        decoded_bowling_team = bowling_team_encoder.transform([bowling_team.value])\n",
        "        decoded_striker = striker_encoder.transform([striker.value])\n",
        "        decoded_bowler = bowler_encoder.transform([bowler.value])\n",
        "\n",
        "\n",
        "        input = np.array([decoded_venue,  decoded_batting_team, decoded_bowling_team,decoded_striker, decoded_bowler])\n",
        "        input = input.reshape(1,5)\n",
        "        input = scaler.transform(input)\n",
        "        #print(input)\n",
        "        predicted_score = model.predict(input)\n",
        "        predicted_score = int(predicted_score[0,0])\n",
        "\n",
        "        print(predicted_score)"
      ]
    },
    {
      "cell_type": "code",
      "execution_count": null,
      "metadata": {
        "colab": {
          "base_uri": "https://localhost:8080/",
          "height": 201,
          "referenced_widgets": [
            "54bec3ea19394bc0b4bfbd5b2eb083d8",
            "79ab0792c24743589d8436a2001d0426",
            "9c6aa57c85ab4170a52d20bfb9537028",
            "bd7e8830bbb8436cb34a935deb828906",
            "5eca7bcb56464ef2a5c24bd929ba16fa",
            "9a9d70726d694e34b1e934bd3b926a29",
            "8999784732204f7599fd92b7eb092dcf",
            "f81559700f8943a6ad8c9837f226ce7f",
            "2b20f582605d4df899a75cebc897578e",
            "9d2d97baf65c405683ea0a560fe1cc40",
            "7a56adbe74f847fc8549a470f95a59cc",
            "cc6cc1b162144db49f5edac4b658c1d7",
            "ea05ef779eae4b7f900555c3460b8996",
            "4806f8e9adb64ca893c7245cf8e4db3c",
            "f0b9a931ae3441d68bdab433af738801",
            "bbba0237648241d9845f9a522d6a8ca0",
            "1ca3e37d516e4e42b524967d165281ea",
            "a24821ba0d204c3fb53205c8bf9fca12",
            "5ed440d9ec0b4bbebf53dc26ebd1bf47",
            "e0f2e679a3c24ff4acbc818299fe393a"
          ]
        },
        "id": "0S2r66MiEcDL",
        "outputId": "3ee9166a-9495-4028-daa6-9e1dc098ed35"
      },
      "outputs": [
        {
          "data": {
            "application/vnd.jupyter.widget-view+json": {
              "model_id": "54bec3ea19394bc0b4bfbd5b2eb083d8",
              "version_major": 2,
              "version_minor": 0
            },
            "text/plain": [
              "Dropdown(description='Venue:', options=('M Chinnaswamy Stadium', 'Punjab Cricket Association Stadium, Mohali',…"
            ]
          },
          "metadata": {},
          "output_type": "display_data"
        },
        {
          "data": {
            "application/vnd.jupyter.widget-view+json": {
              "model_id": "bd7e8830bbb8436cb34a935deb828906",
              "version_major": 2,
              "version_minor": 0
            },
            "text/plain": [
              "Dropdown(description='Batting Team:', options=('Kolkata Knight Riders', 'Chennai Super Kings', 'Rajasthan Roya…"
            ]
          },
          "metadata": {},
          "output_type": "display_data"
        },
        {
          "data": {
            "application/vnd.jupyter.widget-view+json": {
              "model_id": "8999784732204f7599fd92b7eb092dcf",
              "version_major": 2,
              "version_minor": 0
            },
            "text/plain": [
              "Dropdown(description='Bowling Team:', options=('Royal Challengers Bangalore', 'Kings XI Punjab', 'Delhi Darede…"
            ]
          },
          "metadata": {},
          "output_type": "display_data"
        },
        {
          "data": {
            "application/vnd.jupyter.widget-view+json": {
              "model_id": "9d2d97baf65c405683ea0a560fe1cc40",
              "version_major": 2,
              "version_minor": 0
            },
            "text/plain": [
              "Dropdown(description='Striker:', options=('SC Ganguly', 'BB McCullum', 'RT Ponting', 'DJ Hussey', 'Mohammad Ha…"
            ]
          },
          "metadata": {},
          "output_type": "display_data"
        },
        {
          "data": {
            "application/vnd.jupyter.widget-view+json": {
              "model_id": "ea05ef779eae4b7f900555c3460b8996",
              "version_major": 2,
              "version_minor": 0
            },
            "text/plain": [
              "Dropdown(description='Bowler:', options=('P Kumar', 'Z Khan', 'AA Noffke', 'JH Kallis', 'SB Joshi', 'CL White'…"
            ]
          },
          "metadata": {},
          "output_type": "display_data"
        },
        {
          "data": {
            "application/vnd.jupyter.widget-view+json": {
              "model_id": "bbba0237648241d9845f9a522d6a8ca0",
              "version_major": 2,
              "version_minor": 0
            },
            "text/plain": [
              "Button(description='Predict Score', style=ButtonStyle())"
            ]
          },
          "metadata": {},
          "output_type": "display_data"
        },
        {
          "data": {
            "application/vnd.jupyter.widget-view+json": {
              "model_id": "5ed440d9ec0b4bbebf53dc26ebd1bf47",
              "version_major": 2,
              "version_minor": 0
            },
            "text/plain": [
              "Output()"
            ]
          },
          "metadata": {},
          "output_type": "display_data"
        }
      ],
      "source": [
        "predict_button.on_click(predict_score)\n",
        "output = widgets.Output()\n",
        "display(venue, batting_team, bowling_team, striker, bowler, predict_button, output)"
      ]
    },
    {
      "cell_type": "markdown",
      "metadata": {
        "id": "GTKKlVLskF8E"
      },
      "source": []
    },
    {
      "cell_type": "markdown",
      "metadata": {
        "id": "2dogCX_PHPwO"
      },
      "source": [
        "# 11. Data Analysis"
      ]
    },
    {
      "cell_type": "code",
      "execution_count": null,
      "metadata": {
        "colab": {
          "base_uri": "https://localhost:8080/"
        },
        "id": "oqWb3PhvHRXn",
        "outputId": "719fd7b5-84aa-4849-8fca-bb9b0878c11a"
      },
      "outputs": [
        {
          "name": "stdout",
          "output_type": "stream",
          "text": [
            "                mid          runs       wickets         overs   runs_last_5  \\\n",
            "count  76014.000000  76014.000000  76014.000000  76014.000000  76014.000000   \n",
            "mean     308.627740     74.889349      2.415844      9.783068     33.216434   \n",
            "std      178.156878     48.823327      2.015207      5.772587     14.914174   \n",
            "min        1.000000      0.000000      0.000000      0.000000      0.000000   \n",
            "25%      154.000000     34.000000      1.000000      4.600000     24.000000   \n",
            "50%      308.000000     70.000000      2.000000      9.600000     34.000000   \n",
            "75%      463.000000    111.000000      4.000000     14.600000     43.000000   \n",
            "max      617.000000    263.000000     10.000000     19.600000    113.000000   \n",
            "\n",
            "       wickets_last_5       striker   non-striker         total  \n",
            "count    76014.000000  76014.000000  76014.000000  76014.000000  \n",
            "mean         1.120307     24.962283      8.869287    160.901452  \n",
            "std          1.053343     20.079752     10.795742     29.246231  \n",
            "min          0.000000      0.000000      0.000000     67.000000  \n",
            "25%          0.000000     10.000000      1.000000    142.000000  \n",
            "50%          1.000000     20.000000      5.000000    162.000000  \n",
            "75%          2.000000     35.000000     13.000000    181.000000  \n",
            "max          7.000000    175.000000    109.000000    263.000000  \n",
            "mid               0\n",
            "date              0\n",
            "venue             0\n",
            "bat_team          0\n",
            "bowl_team         0\n",
            "batsman           0\n",
            "bowler            0\n",
            "runs              0\n",
            "wickets           0\n",
            "overs             0\n",
            "runs_last_5       0\n",
            "wickets_last_5    0\n",
            "striker           0\n",
            "non-striker       0\n",
            "total             0\n",
            "dtype: int64\n"
          ]
        }
      ],
      "source": [
        "# Summary statistics\n",
        "print(ipl.describe())\n",
        "# Null values check\n",
        "print(ipl.isnull().sum())\n",
        "# Plot distributions\n"
      ]
    },
    {
      "cell_type": "markdown",
      "metadata": {
        "id": "6yumMYn6HdsB"
      },
      "source": [
        "Plot"
      ]
    },
    {
      "cell_type": "markdown",
      "metadata": {
        "id": "T2Y2hRZSiWRf"
      },
      "source": [
        "Total runs scored by Batting team"
      ]
    },
    {
      "cell_type": "code",
      "execution_count": null,
      "metadata": {
        "colab": {
          "base_uri": "https://localhost:8080/",
          "height": 658
        },
        "id": "cMHIujM4xqMW",
        "outputId": "a3e7ecb7-7c1f-4188-d1ad-07958386ced2"
      },
      "outputs": [
        {
          "data": {
            "image/png": "[encoded data removed]",
            "text/plain": [
              "<Figure size 640x480 with 1 Axes>"
            ]
          },
          "metadata": {},
          "output_type": "display_data"
        }
      ],
      "source": [
        "sns.boxplot(x='bat_team', y='total', data=ipl)\n",
        "plt.title('Run Distribution by Batting Team')\n",
        "plt.xticks(rotation=90)\n",
        "plt.show()"
      ]
    },
    {
      "cell_type": "markdown",
      "metadata": {
        "id": "WxKpiApRi_Jk"
      },
      "source": [
        "Adding a new feature, venue_avg_score, to the DataFrame, representing the average runs scored at each venue in the last 5 matches"
      ]
    },
    {
      "cell_type": "code",
      "execution_count": null,
      "metadata": {
        "id": "IYPEwI9apQBo"
      },
      "outputs": [],
      "source": [
        "# Add a feature for average runs scored at the venue in the last 5 matches\n",
        "venue_avg_score = ipl.groupby('venue')['total'].rolling(5).mean().reset_index(0, drop=True)\n",
        "df['venue_avg_score'] = venue_avg_score"
      ]
    },
    {
      "cell_type": "markdown",
      "metadata": {
        "id": "EabNeUL6pYA9"
      },
      "source": [
        "Fill missing values"
      ]
    },
    {
      "cell_type": "code",
      "execution_count": null,
      "metadata": {
        "id": "uiAl5bm6pZfY"
      },
      "outputs": [],
      "source": [
        "# Fill missing values in new features if any\n",
        "# Only include numeric columns in the mean calculation\n",
        "numeric_cols = df.select_dtypes(include=np.number).columns\n",
        "df[numeric_cols] = df[numeric_cols].fillna(df[numeric_cols].mean())"
      ]
    },
    {
      "cell_type": "markdown",
      "metadata": {
        "id": "EKozM1dxpvh3"
      },
      "source": [
        "# 12. Enhanced Neural Network Model with Batch Normalization and Dropout for Regression"
      ]
    },
    {
      "cell_type": "markdown",
      "metadata": {
        "id": "UN_qoQFdovNq"
      },
      "source": [
        "It defines a neural network model for regression using Keras, with added regularization techniques for improved generalization."
      ]
    },
    {
      "cell_type": "code",
      "execution_count": null,
      "metadata": {
        "id": "w4_p-DfRpzjq"
      },
      "outputs": [],
      "source": [
        "model = keras.Sequential([\n",
        "    keras.layers.Input(shape=(X_train_scaled.shape[1],)),\n",
        "    keras.layers.Dense(512, activation='relu'),\n",
        "    keras.layers.BatchNormalization(),    #Normalizes the outputs of the previous layer.\n",
        "    keras.layers.Dropout(0.3),            #Randomly sets 30% of the neurons in the previous layer to zero during training.\n",
        "    keras.layers.Dense(256, activation='relu'),\n",
        "    keras.layers.Dense(1, activation='linear')     #A single neuron output layer for regression tasks.\n",
        "])"
      ]
    },
    {
      "cell_type": "markdown",
      "metadata": {
        "id": "REwIUBv2p11_"
      },
      "source": [
        "# 13. Hyper-parameter tuning"
      ]
    },
    {
      "cell_type": "markdown",
      "metadata": {
        "id": "ifl5kfLkYGli"
      },
      "source": [
        "**Hyperparameter tuning** is the process of finding the optimal values for the hyperparameters of a machine learning model."
      ]
    },
    {
      "cell_type": "markdown",
      "metadata": {
        "id": "Nly3GjMYYR6i"
      },
      "source": [
        "**Hyperparameters** are settings that control the learning process of a machine learning model. They are not learned from the data itself but are set before training begins.\n",
        "Examples of hyperparameters: learning rate, number of hidden layers, number of neurons in each layer, batch size, epochs, activation functions, and regularization parameters."
      ]
    },
    {
      "cell_type": "markdown",
      "metadata": {
        "id": "eTXIqJLNp-dK"
      },
      "source": [
        "**Scikeras** is a library that bridges Keras/TensorFlow with Scikit-learn, allowing Keras models to be used seamlessly within Scikit-learn's API. It provides wrappers like KerasRegressor and KerasClassifier to integrate deep learning models into the Scikit-learn ecosystem."
      ]
    },
    {
      "cell_type": "code",
      "execution_count": null,
      "metadata": {
        "colab": {
          "base_uri": "https://localhost:8080/"
        },
        "id": "TSAJjXB0qDuc",
        "outputId": "189e01c4-f23e-4601-c93d-4ff3f718719b"
      },
      "outputs": [
        {
          "name": "stdout",
          "output_type": "stream",
          "text": [
            "Requirement already satisfied: scikeras in /usr/local/lib/python3.11/dist-packages (0.13.0)\n",
            "Requirement already satisfied: keras>=3.2.0 in /usr/local/lib/python3.11/dist-packages (from scikeras) (3.8.0)\n",
            "Requirement already satisfied: scikit-learn>=1.4.2 in /usr/local/lib/python3.11/dist-packages (from scikeras) (1.7.0)\n",
            "Requirement already satisfied: absl-py in /usr/local/lib/python3.11/dist-packages (from keras>=3.2.0->scikeras) (1.4.0)\n",
            "Requirement already satisfied: numpy in /usr/local/lib/python3.11/dist-packages (from keras>=3.2.0->scikeras) (2.0.2)\n",
            "Requirement already satisfied: rich in /usr/local/lib/python3.11/dist-packages (from keras>=3.2.0->scikeras) (13.9.4)\n",
            "Requirement already satisfied: namex in /usr/local/lib/python3.11/dist-packages (from keras>=3.2.0->scikeras) (0.1.0)\n",
            "Requirement already satisfied: h5py in /usr/local/lib/python3.11/dist-packages (from keras>=3.2.0->scikeras) (3.14.0)\n",
            "Requirement already satisfied: optree in /usr/local/lib/python3.11/dist-packages (from keras>=3.2.0->scikeras) (0.16.0)\n",
            "Requirement already satisfied: ml-dtypes in /usr/local/lib/python3.11/dist-packages (from keras>=3.2.0->scikeras) (0.4.1)\n",
            "Requirement already satisfied: packaging in /usr/local/lib/python3.11/dist-packages (from keras>=3.2.0->scikeras) (24.2)\n",
            "Requirement already satisfied: scipy>=1.8.0 in /usr/local/lib/python3.11/dist-packages (from scikit-learn>=1.4.2->scikeras) (1.15.3)\n",
            "Requirement already satisfied: joblib>=1.2.0 in /usr/local/lib/python3.11/dist-packages (from scikit-learn>=1.4.2->scikeras) (1.5.1)\n",
            "Requirement already satisfied: threadpoolctl>=3.1.0 in /usr/local/lib/python3.11/dist-packages (from scikit-learn>=1.4.2->scikeras) (3.6.0)\n",
            "Requirement already satisfied: typing-extensions>=4.6.0 in /usr/local/lib/python3.11/dist-packages (from optree->keras>=3.2.0->scikeras) (4.14.0)\n",
            "Requirement already satisfied: markdown-it-py>=2.2.0 in /usr/local/lib/python3.11/dist-packages (from rich->keras>=3.2.0->scikeras) (3.0.0)\n",
            "Requirement already satisfied: pygments<3.0.0,>=2.13.0 in /usr/local/lib/python3.11/dist-packages (from rich->keras>=3.2.0->scikeras) (2.19.1)\n",
            "Requirement already satisfied: mdurl~=0.1 in /usr/local/lib/python3.11/dist-packages (from markdown-it-py>=2.2.0->rich->keras>=3.2.0->scikeras) (0.1.2)\n"
          ]
        }
      ],
      "source": [
        "!pip install scikeras"
      ]
    },
    {
      "cell_type": "markdown",
      "metadata": {
        "id": "ieO9_eS0Zc6v"
      },
      "source": [
        "KerasRegressor is a wrapper class provided by the scikeras library. Its primary purpose is to make Keras models (which are primarily designed for deep learning) compatible with the Scikit-learn API."
      ]
    },
    {
      "cell_type": "code",
      "execution_count": null,
      "metadata": {
        "colab": {
          "base_uri": "https://localhost:8080/"
        },
        "id": "MeLIuu2ErfqP",
        "outputId": "e0074436-552a-4b1f-a7c1-a141a50af761"
      },
      "outputs": [
        {
          "name": "stdout",
          "output_type": "stream",
          "text": [
            "Requirement already satisfied: scikeras in /usr/local/lib/python3.11/dist-packages (0.13.0)\n",
            "Requirement already satisfied: scikit-learn in /usr/local/lib/python3.11/dist-packages (1.7.0)\n",
            "Requirement already satisfied: keras>=3.2.0 in /usr/local/lib/python3.11/dist-packages (from scikeras) (3.8.0)\n",
            "Requirement already satisfied: numpy>=1.22.0 in /usr/local/lib/python3.11/dist-packages (from scikit-learn) (2.0.2)\n",
            "Requirement already satisfied: scipy>=1.8.0 in /usr/local/lib/python3.11/dist-packages (from scikit-learn) (1.15.3)\n",
            "Requirement already satisfied: joblib>=1.2.0 in /usr/local/lib/python3.11/dist-packages (from scikit-learn) (1.5.1)\n",
            "Requirement already satisfied: threadpoolctl>=3.1.0 in /usr/local/lib/python3.11/dist-packages (from scikit-learn) (3.6.0)\n",
            "Requirement already satisfied: absl-py in /usr/local/lib/python3.11/dist-packages (from keras>=3.2.0->scikeras) (1.4.0)\n",
            "Requirement already satisfied: rich in /usr/local/lib/python3.11/dist-packages (from keras>=3.2.0->scikeras) (13.9.4)\n",
            "Requirement already satisfied: namex in /usr/local/lib/python3.11/dist-packages (from keras>=3.2.0->scikeras) (0.1.0)\n",
            "Requirement already satisfied: h5py in /usr/local/lib/python3.11/dist-packages (from keras>=3.2.0->scikeras) (3.14.0)\n",
            "Requirement already satisfied: optree in /usr/local/lib/python3.11/dist-packages (from keras>=3.2.0->scikeras) (0.16.0)\n",
            "Requirement already satisfied: ml-dtypes in /usr/local/lib/python3.11/dist-packages (from keras>=3.2.0->scikeras) (0.4.1)\n",
            "Requirement already satisfied: packaging in /usr/local/lib/python3.11/dist-packages (from keras>=3.2.0->scikeras) (24.2)\n",
            "Requirement already satisfied: typing-extensions>=4.6.0 in /usr/local/lib/python3.11/dist-packages (from optree->keras>=3.2.0->scikeras) (4.14.0)\n",
            "Requirement already satisfied: markdown-it-py>=2.2.0 in /usr/local/lib/python3.11/dist-packages (from rich->keras>=3.2.0->scikeras) (3.0.0)\n",
            "Requirement already satisfied: pygments<3.0.0,>=2.13.0 in /usr/local/lib/python3.11/dist-packages (from rich->keras>=3.2.0->scikeras) (2.19.1)\n",
            "Requirement already satisfied: mdurl~=0.1 in /usr/local/lib/python3.11/dist-packages (from markdown-it-py>=2.2.0->rich->keras>=3.2.0->scikeras) (0.1.2)\n"
          ]
        }
      ],
      "source": [
        "!pip install -U scikeras scikit-learn"
      ]
    },
    {
      "cell_type": "code",
      "execution_count": null,
      "metadata": {
        "colab": {
          "base_uri": "https://localhost:8080/"
        },
        "id": "jLWLQaDCp5jg",
        "outputId": "35d35e5c-8a4e-4657-e3ce-b075f2de006d"
      },
      "outputs": [
        {
          "name": "stdout",
          "output_type": "stream",
          "text": [
            "Epoch 1/5\n",
            "\u001b[1m1109/1109\u001b[0m \u001b[32m━━━━━━━━━━━━━━━━━━━━\u001b[0m\u001b[37m\u001b[0m \u001b[1m6s\u001b[0m 4ms/step - loss: 11419.9941\n",
            "Epoch 2/5\n",
            "\u001b[1m1109/1109\u001b[0m \u001b[32m━━━━━━━━━━━━━━━━━━━━\u001b[0m\u001b[37m\u001b[0m \u001b[1m6s\u001b[0m 5ms/step - loss: 1230.2924\n",
            "Epoch 3/5\n",
            "\u001b[1m1109/1109\u001b[0m \u001b[32m━━━━━━━━━━━━━━━━━━━━\u001b[0m\u001b[37m\u001b[0m \u001b[1m7s\u001b[0m 3ms/step - loss: 895.5259\n",
            "Epoch 4/5\n",
            "\u001b[1m1109/1109\u001b[0m \u001b[32m━━━━━━━━━━━━━━━━━━━━\u001b[0m\u001b[37m\u001b[0m \u001b[1m5s\u001b[0m 2ms/step - loss: 863.3983\n",
            "Epoch 5/5\n",
            "\u001b[1m1109/1109\u001b[0m \u001b[32m━━━━━━━━━━━━━━━━━━━━\u001b[0m\u001b[37m\u001b[0m \u001b[1m1s\u001b[0m 1ms/step - loss: 860.7087\n",
            "\u001b[1m555/555\u001b[0m \u001b[32m━━━━━━━━━━━━━━━━━━━━\u001b[0m\u001b[37m\u001b[0m \u001b[1m0s\u001b[0m 835us/step\n",
            "Epoch 1/5\n",
            "\u001b[1m1109/1109\u001b[0m \u001b[32m━━━━━━━━━━━━━━━━━━━━\u001b[0m\u001b[37m\u001b[0m \u001b[1m2s\u001b[0m 1ms/step - loss: 11361.3242\n",
            "Epoch 2/5\n",
            "\u001b[1m1109/1109\u001b[0m \u001b[32m━━━━━━━━━━━━━━━━━━━━\u001b[0m\u001b[37m\u001b[0m \u001b[1m1s\u001b[0m 1ms/step - loss: 1313.0369\n",
            "Epoch 3/5\n",
            "\u001b[1m1109/1109\u001b[0m \u001b[32m━━━━━━━━━━━━━━━━━━━━\u001b[0m\u001b[37m\u001b[0m \u001b[1m2s\u001b[0m 2ms/step - loss: 935.3589\n",
            "Epoch 4/5\n",
            "\u001b[1m1109/1109\u001b[0m \u001b[32m━━━━━━━━━━━━━━━━━━━━\u001b[0m\u001b[37m\u001b[0m \u001b[1m2s\u001b[0m 1ms/step - loss: 863.1882\n",
            "Epoch 5/5\n",
            "\u001b[1m1109/1109\u001b[0m \u001b[32m━━━━━━━━━━━━━━━━━━━━\u001b[0m\u001b[37m\u001b[0m \u001b[1m2s\u001b[0m 2ms/step - loss: 860.1841\n",
            "\u001b[1m555/555\u001b[0m \u001b[32m━━━━━━━━━━━━━━━━━━━━\u001b[0m\u001b[37m\u001b[0m \u001b[1m1s\u001b[0m 908us/step\n",
            "Epoch 1/5\n",
            "\u001b[1m1109/1109\u001b[0m \u001b[32m━━━━━━━━━━━━━━━━━━━━\u001b[0m\u001b[37m\u001b[0m \u001b[1m2s\u001b[0m 1ms/step - loss: 11651.0059\n",
            "Epoch 2/5\n",
            "\u001b[1m1109/1109\u001b[0m \u001b[32m━━━━━━━━━━━━━━━━━━━━\u001b[0m\u001b[37m\u001b[0m \u001b[1m2s\u001b[0m 1ms/step - loss: 1290.2156\n",
            "Epoch 3/5\n",
            "\u001b[1m1109/1109\u001b[0m \u001b[32m━━━━━━━━━━━━━━━━━━━━\u001b[0m\u001b[37m\u001b[0m \u001b[1m3s\u001b[0m 2ms/step - loss: 904.4048\n",
            "Epoch 4/5\n",
            "\u001b[1m1109/1109\u001b[0m \u001b[32m━━━━━━━━━━━━━━━━━━━━\u001b[0m\u001b[37m\u001b[0m \u001b[1m1s\u001b[0m 1ms/step - loss: 857.9656\n",
            "Epoch 5/5\n",
            "\u001b[1m1109/1109\u001b[0m \u001b[32m━━━━━━━━━━━━━━━━━━━━\u001b[0m\u001b[37m\u001b[0m \u001b[1m3s\u001b[0m 3ms/step - loss: 848.2700\n",
            "\u001b[1m555/555\u001b[0m \u001b[32m━━━━━━━━━━━━━━━━━━━━\u001b[0m\u001b[37m\u001b[0m \u001b[1m0s\u001b[0m 839us/step\n",
            "Epoch 1/5\n",
            "\u001b[1m1663/1663\u001b[0m \u001b[32m━━━━━━━━━━━━━━━━━━━━\u001b[0m\u001b[37m\u001b[0m \u001b[1m3s\u001b[0m 1ms/step - loss: 9242.0234\n",
            "Epoch 2/5\n",
            "\u001b[1m1663/1663\u001b[0m \u001b[32m━━━━━━━━━━━━━━━━━━━━\u001b[0m\u001b[37m\u001b[0m \u001b[1m4s\u001b[0m 2ms/step - loss: 983.2955\n",
            "Epoch 3/5\n",
            "\u001b[1m1663/1663\u001b[0m \u001b[32m━━━━━━━━━━━━━━━━━━━━\u001b[0m\u001b[37m\u001b[0m \u001b[1m6s\u001b[0m 3ms/step - loss: 849.9398\n",
            "Epoch 4/5\n",
            "\u001b[1m1663/1663\u001b[0m \u001b[32m━━━━━━━━━━━━━━━━━━━━\u001b[0m\u001b[37m\u001b[0m \u001b[1m2s\u001b[0m 1ms/step - loss: 848.3516\n",
            "Epoch 5/5\n",
            "\u001b[1m1663/1663\u001b[0m \u001b[32m━━━━━━━━━━━━━━━━━━━━\u001b[0m\u001b[37m\u001b[0m \u001b[1m3s\u001b[0m 2ms/step - loss: 868.7213\n"
          ]
        }
      ],
      "source": [
        "from scikeras.wrappers import KerasRegressor # Import KerasRegressor from scikeras.wrappers\n",
        "from sklearn.model_selection import GridSearchCV\n",
        "import tensorflow as tf # Import tensorflow for keras\n",
        "\n",
        "def create_model(optimizer='adam'):\n",
        "    model = tf.keras.Sequential([ # Use tf.keras.Sequential for model creation\n",
        "        tf.keras.layers.Input(shape=(X_train_scaled.shape[1],)), # Use tf.keras.layers for layers\n",
        "        tf.keras.layers.Dense(512, activation='relu'),\n",
        "        tf.keras.layers.Dense(1, activation='linear')\n",
        "    ])\n",
        "    model.compile(optimizer=optimizer, loss='mse')\n",
        "    return model\n",
        "\n",
        "model = KerasRegressor(build_fn=create_model) # Create KerasRegressor instance\n",
        "param_grid = {'batch_size': [32], 'epochs': [5], 'optimizer': ['adam']}\n",
        "grid = GridSearchCV(estimator=model, param_grid=param_grid, scoring='neg_mean_squared_error',cv=3)\n",
        "grid_result = grid.fit(X_train_scaled, y_train)"
      ]
    },
    {
      "cell_type": "markdown",
      "metadata": {
        "id": "5PSGNAnDsMqR"
      },
      "source": [
        "# 14. Evaluating Model Performance Using MSE, MAE, and R² Score\n",
        "\n"
      ]
    },
    {
      "cell_type": "code",
      "execution_count": null,
      "metadata": {
        "colab": {
          "base_uri": "https://localhost:8080/"
        },
        "id": "AXgtW34csRH2",
        "outputId": "483b230d-b7ea-49a4-e9e4-f9c4d17b576f"
      },
      "outputs": [
        {
          "name": "stdout",
          "output_type": "stream",
          "text": [
            "Mean Squared Error: 820.5881958007812\n",
            "Mean Absolute Error: 22.094606399536133\n",
            "R^2 Score: 0.027028560638427734\n"
          ]
        }
      ],
      "source": [
        "from sklearn.metrics import r2_score\n",
        "\n",
        "mse = mean_squared_error(y_test, predictions)\n",
        "mae = mean_absolute_error(y_test, predictions)\n",
        "r2 = r2_score(y_test, predictions)\n",
        "\n",
        "print(f\"Mean Squared Error: {mse}\")\n",
        "print(f\"Mean Absolute Error: {mae}\")\n",
        "print(f\"R^2 Score: {r2}\")"
      ]
    },
    {
      "cell_type": "markdown",
      "metadata": {
        "id": "Cv13yc08sJSb"
      },
      "source": [
        "![image.png](data:image/png;base64,iVBORw0KGgoAAAANSUhEUgAAAN8AAAB3CAYAAACDtpWvAAAAAXNSR0IArs4c6QAAAARnQU1BAACxjwv8YQUAAAAJcEhZcwAADsMAAA7DAcdvqGQAAA9CSURBVHhe7Z0J0FXjH8d/lS1LRdm3FrQoyRYVLZIYy0iyhYkZuxgRohRaaMY6hLLvTQ2yp2SrZEmNfa8oIvuu8Pf5vefR6Xbv7a23v+fc7vczc+d977n33LfuOd/ntz7PU61BgwZ/mxDiP6d68lMI8R8j8QkRCYlPiEhIfEJEQuITIhISnxCRkPiEiITEJ0QkJD4hIiHxCREJiU+ISEh8QkRC4hMiEhKfEJGQ+ISIhMQnRCQkPiEiIfEJEQmJT4hISHxCRELiEyISEp8QkZD4hIiE1u0Uy6RFixZ2/PHHW/PmzW2NNdawRYsW2ccff2y33nqrbbbZZtatWzcbPny4zZgxIzmjguOOO84OPPBA23DDDf35999/b5MmTbJ77rnHLr74Yvvss89s6NCh/lo5IvGJorRt29bOO+88W2eddeyxxx6zd9991+rUqWNdu3a1LbbYwv744w/7888/XUyvvvpqcpb583333dffz3m//vqr7bLLLrbnnnva77//bhtssIE9/vjjdtlllyVnlB9yO0VB1l57bTvppJNcKHfeeaddeeWVLph7773Xjj32WHv++eddiLlg8fbZZx/78MMP7fTTT7exY8f6eZdccokNHDjQqlWrZquvvnry7vJF4hMF2XvvvW2rrbayr7/+2l555ZXk6GIQ5Lx585Jni2ndurWL680337RffvklOVrB5MmT7emnn3bXtdyR+ERBiOeI8QpB3PfOO+8kzxZTt27d5Lf8vPbaa/bjjz8mz8oXiU8U5K+//vKfJEw6duzov+cyZ84cW7hwYfKsAs6rXr267bzzztawYcPk6GJeeOEF+/bbb5Nn5UuN9ddff2DyuxBLULNmTdtjjz1s3XXXte2228623npr+/nnn5dwNbFi999//xLHdtppJxfdP/eW7bjjjrbaaqvZV1995ecGxowZ4zFjOaNspygKCRIymzVq1EiOmP32229u8RDPXXfdtVRcR4a0X79+ttFGGyVHzDOilBpmzpxpDz74oE2dOjV5pXyR5RNFefnll93qbb755u5KApaMuK5Vq1bWqVMnmzt3rn366af+GvD7Tz/95HVBMqbAuVjSfwZ7T+Rssskm7n6WMxKfKArx3FNPPeVuJdZvvfXW8yQMYqJkQKkBF5MaH5Yt8N5779n48eP9fWuuuabXCREt8DmNGjXyn9OnT/dj5YjcTrHc4E5SxzvssMPcIiLQO+64w2666abkHfmhyH7ooYda+/btvRRBtrRXr15Lua3lwipj+Zo1a2bHHHOMNW7c2LsuCPBF1UAk+++/v7399ttLZDRJnLzxxhs2f/58FxRWDTcTSwcU5km2IK40WM+JEye61cNaYvlmz5691PvKhVVCfAMGDLCePXu6i9OuXTvr0aOHYoqVAIkWHtTy8hXTZ82aZW3atPF64JdffultZNC3b193TQtlMxHrbrvt5tfrpZde8vNDV0zLli39M/fbbz9P7ND/CWRdzznnHB9geQ+Ff/4mMSV9p3TSdO/e3XbYYQfPtvK5Wafk63xHH3207brrru7ynHHGGf5gRGbE5oKKqoFQ6tevnzxbmr//rohacut2lCUKQXcL59HjGYrttLCRvDnkkEM8KdOhQwfr3bu3v3byySd7D+gXX3xhV1xxhSeAGHCxnn369HELTesb/aQIedttt/Xzsk7Ji48LhZWj1xBC1wVBPqOgqBqIj+xkyFqm4VitWrXczf/ggw+SoxVss802Ht/lg5iR5AuWizrhc889Z3fffbcLGIs2atQob0N79NFHfUYFA+mCBQvs2muv9VLFs88+69f8oIMOsiZNmriQGXC59li8Uingl7z4yJaRWUtPZ+FmECsPOlWuvvpqF0IavAysz0cffWSjR49OjlZAYf7UU0+1E044ITlSAZ91wAEHuGDo8cxNtnzzzTcusAsuuMCnHu2+++5Wr149t4yIkqbuzp07u3j5G8yaIIZ86KGHvH6I5bvmmmuST8s2mch2cgEZJfkyC0HAj8CeeeaZotkxRuObb77ZXaWRI0d6Fk6sGCROyGg+8cQTPhVo4403dnFQUuB7xvrgZeDykYAJPPDAA56AwU3EfeTaYZkQ3KabburtZ4h1xIgRyRkVmdBBgwZ5AgbRBvg3ED5w7dPHA/w7eM9ee+3l/z5ESRP4ueeem/ksaiYSLrQgHXnkke5CkK3kgSC33HJLFxEP/HjcH97Ha9OmTVsiAxc48cQT/Uah7nTdddflfU8W4KY588wz/YZba621Mlnv4mZGQFgSWshIfiAchPX55597i9jll1/u7mMa4r1HHnnEbr/9dncRmctHnIc7yP+TuA2rlwaLRf8owg6JG+A4syR++OEHGzduXHK0IrtNzykWEs/nwgsvtPvuu8/vE4r7FPqxyFkmU3U+RNO/f39PU5MpI5hOc8QRR7i4sJCID7cnDdaT4JwLzE2dtZGPxAAuE3Eq9TH+HwwOlamRreoUsnzAILr99tvb9ddf73MDGbiGDBni8wW5ZxgIzjrrLH/vKaec4pN4SdCkJ/dmkUzFfNyUfLHckHyxuTD6MsrRWdG0aVO/kQP0E5KGZqRl5jUuERY1SxC7YMWxBNS7+CnMC+1YUCwZZQKsIscCV111lb3//vt22mmn+T1APym9oixjAXhKzC3EorJsBS1xWRceZMrykSomGMf1GDZsmE2YMCF5ZTF88binWDUuGDOkcUMvuugiD765AMBnAaNpFiGDxyBBp4csX+XgOuNW4lJS+AcGWISJG0pShtgw1w3OKpmyfKSngdhgypQp/nsarFvolEegXAQuCDUf4hMuBNkwHhRxS+UiiMpBKYE+0yA8QGwMxFg6OmxK6ZpnRnz4/IxcwHSVfPEa/j2NvJQSnnzySc+wEQcy6iFKRsXwoAGYmpEQWSUz4kNAtWvXzhvvEQfSsoRLiijJst1www3+GoE3Vo4ul/SD1HNu7UmILJGZmI8sJ8EygTQpbURI7x/zxuiyoBWJ7gVcynRNaWVA8RZruSKQen/44Ye9CL08KOYTmRFfSKQQxyEGoGCKq0msh/io41BAX9lgdYv1LxaD+tWKBPkSn8iE+EKNh7gtX32PrCZNt9RzKKaubMsXgxUVHwmmZXUDFYJZCLfddlvyTMQmE+KjKZriOW4mFjDddgSUEQ4++OAlygulTtbFl2+dzlKE+D+rZEJ8y6rvkVzhS/x/iU9up4hBJsQX4j1GZppo02UGVkymt5B9AbjBEerK7l5QwkXEILr4ltXPSZ/e+eef725WWnx0skOp3rQSn4hW58PV4wakHkdBPKzryDFeC3CcRxrmlbG8ATduKUFCqUuXLv5/ZDY22VziXHoaOcZAQ0wnyoMolo82sMGDB//bKpYmTLIkqxkIC7ciQhIBtJIRa/EeumFKhWDtaBrIh2Y4lBeZiPkqA1aBpAvuJ3PMKLaXUh9fKcPiRSxShFXGWtPexw5EzCogbOC6pGchAAMMoQFz9OhcAlaUY54fC1sRatC/y4TncqVkxCfiQFmDOXIIjmUaWJ2auYgMhoiK6V300B5++OHJGRXCIyvNkhFM72H1AaBZgomxhBd0LpFoK2crn6lZDSJbEFszRxLI5mKlKPPwk9osU3lYQCkXlvHDGtIOyCRXZqDzwOVmYiwxPrFuuaNvQBSkTZs2HpfTWRQWxA2EBvfvvvsuOVIBVg+LF+qfuTATvRTW1PwvkPhEQcjCFssoT5o0yXtx05CpXlb3DaLULH6JTxSBBgKyzzQ4EPvl45NPPkl+qwCLB6ybSqImX2aXSbHamVa7FIkiUNLBhWRKFyuCkSRhFbH0Phg0RuB+BshEk+FkDR3OZ00WBBymiQFLz7MWCwvmljPKdoqCYLWGDx/uyROymoCQiPewXsSBiCgXrCSLHZFYCVCjpTT0+uuvu1hXhZkpVUWWTxQES8WiVPTdknhBgDzYBAWrhlvJAyGll2gPy/WzqhjvBbKbiJEeWtZf5fVyt3wSnygKoqJxnBgNIeGCIpwgRETJ4sasap0GYbF+KpaSHWk5L2wtzecgQjKlLAUZYCUDBEsJY3mpyrmxkPhEpaCjhZWkWR+TNUcRDnskICya4im05974uJl0s7CWzi233OIrSPNerCbn4damV6dmNXLEXGhrsWJU5dxYKNspCoI1yW0bA+I9lvNAUJQMEBKLGANTwCiyk6jJhU4XZq0gZKBTJjTRI8QVndZVlXNjIvGJgrAJJQ3thaBrhQ1QiOdCbIf1YSVxlgbJB8kaXFLiSfpEEQ4CvPTSS33dVvpHWVKEhE0a9mFkFj4taezbx9+BypybVSQ+URTWSaUnMx8IiVogmUw2TwlQmMcCFoJzgH5RXFPc1/A5uSBOWtLYiw+XN2xVxs5IiK3YuVlH4hNFQXyFrB8iwOVkj3YynGlatWpVULTEfWE/dqaEMdOBbhkK9Li0TJhmUxTAhcUCk9DhPVhNLC4uK3v/FTs360h8oii4lOyVzh4YwdUDLBJN1xxjM0uWcU9Da1q/fv184as07LVOEZ7saWXW4kHgZEzT08foNcXqUvhPT7wuNSQ+URRKDRTSmQDN7q88mEtJgzRz+WiSZtGrXNjqmTV5mMnAglh8BptmshIdYmKFutxmbcCSpgmxZD5CzBjIPTfrqNQgCkJP51tvveVz7hAbbWXEVlgdygZsfnnjjTe62xlAEMzz4zW2dZ46daqLjawoQqYUMHTo0KUWwSJb2a5dO7eIlB9Y1ApXkriOrdUQeagJEudhPWl1432sPJfv3Nx94rOGxCcKQucKLiWQnSSuw6JhyRARli0XJsq++OKL/3a8IFgESJmBBzFbWqwBREaMuGDBAv+7bCTK36YnlP5QkirEdtCtWzd3OREas+ELnUsMmGXU2ykyAe4js9+J8ZgtTwnj7LPP9teYuHvUUUe5xWUQIAnELlVsmgnFzs0yEp/IFNQHaV+bPHlycmQxWDdewwVFiLkUOzeLSHxCRELZTiEiIfEJEQmJT4hISHxCRELiEyISEp8QkZD4hIiExCdEJCQ+ISIh8QkRCYlPiEhIfEJEQuITIhISnxCRkPiEiITEJ0QkJD4hIiHxCREJiU+ISEh8QkRC4hMiEhKfEJGQ+ISIhMQnRCQkPiEiIfEJEQmJT4hISHxCRELiEyISEp8QkZD4hIiExCdEJCQ+ISIh8QkRCYlPiEhIfEJEQuITIhISnxCRkPiEiITEJ0QUzP4HVcrBqqCKhgwAAAAASUVORK5CYII=)"
      ]
    },
    {
      "cell_type": "markdown",
      "metadata": {
        "id": "023WsEw8sfbF"
      },
      "source": [
        "# 15. Improved user interface"
      ]
    },
    {
      "cell_type": "code",
      "execution_count": null,
      "metadata": {
        "id": "4TboGpthshzM"
      },
      "outputs": [],
      "source": [
        "overs = widgets.FloatSlider(value=10.0, min=0.1, max=20.0, step=0.1, description='Overs:')\n",
        "#10 overs bowled. min=0.1 to 20 because it is a T20 match . 0.1 step for each ball\n",
        "\n",
        "wickets = widgets.IntSlider(value=0, min=0, max=10, step=1, description='Wickets:')\n",
        "#0 to 10 wickets step increase by 1\n",
        "\n",
        "runs = widgets.IntSlider(value=0, min=0, max=100, step=1, description='Runs:')\n",
        "\n",
        "striker_runs = widgets.IntSlider(value=0, min=0, max=100, step=1, description='Striker Runs:')\n",
        "non_striker_runs = widgets.IntSlider(value=0, min=0, max=100, step=1, description='Non-striker Runs:')\n",
        "bowler_runs = widgets.IntSlider(value=0, min=0, max=100, step=1, description='Bowler Runs:')\n",
        "#0 to 100 runs step increase by 1"
      ]
    },
    {
      "cell_type": "markdown",
      "metadata": {
        "id": "y3IbcLRsswr_"
      },
      "source": [
        "# 16. Predicting Total Score with User Input and Model"
      ]
    },
    {
      "cell_type": "code",
      "execution_count": null,
      "metadata": {
        "id": "TMTo5RCoszvN"
      },
      "outputs": [],
      "source": [
        "def predict_score_with_details(b):\n",
        "    with output:\n",
        "        clear_output()\n",
        "        input = np.array([decoded_venue, decoded_batting_team, decoded_bowling_team, decoded_striker, decoded_bowler])\n",
        "        input = input.reshape(1, -1)\n",
        "        input = scaler.transform(input)   #scaled into MinMaxScaler\n",
        "        predicted_score = model.predict(input)        #The preprocessed input data is passed through the trained model to get a predicted score.\n",
        "        predicted_score = int(predicted_score[0, 0])      #The predicted score is then converted to an integer for easier readability\n",
        "\n",
        "        print(f\"Predicted Score: {predicted_score} (±10 runs)\")\n"
      ]
    },
    {
      "cell_type": "markdown",
      "metadata": {
        "id": "L0Xrci0Hs3Py"
      },
      "source": [
        "# 17. Export trained model"
      ]
    },
    {
      "cell_type": "markdown",
      "metadata": {
        "id": "t58zqlFhvjXm"
      },
      "source": [
        "It sets up a simple neural network for predicting cricket scores, then trains it and saves the trained model in the Keras format."
      ]
    },
    {
      "cell_type": "code",
      "execution_count": null,
      "metadata": {
        "colab": {
          "base_uri": "https://localhost:8080/"
        },
        "id": "qO18qopUs50j",
        "outputId": "06011057-2969-4384-e6e7-d1248c2477c9"
      },
      "outputs": [
        {
          "name": "stdout",
          "output_type": "stream",
          "text": [
            "Epoch 1/10\n",
            "\u001b[1m2376/2376\u001b[0m \u001b[32m━━━━━━━━━━━━━━━━━━━━\u001b[0m\u001b[37m\u001b[0m \u001b[1m13s\u001b[0m 5ms/step - loss: 3277.2859\n",
            "Epoch 2/10\n",
            "\u001b[1m2376/2376\u001b[0m \u001b[32m━━━━━━━━━━━━━━━━━━━━\u001b[0m\u001b[37m\u001b[0m \u001b[1m10s\u001b[0m 4ms/step - loss: 1461.7628\n",
            "Epoch 3/10\n",
            "\u001b[1m2376/2376\u001b[0m \u001b[32m━━━━━━━━━━━━━━━━━━━━\u001b[0m\u001b[37m\u001b[0m \u001b[1m4s\u001b[0m 2ms/step - loss: 946.4174\n",
            "Epoch 4/10\n",
            "\u001b[1m2376/2376\u001b[0m \u001b[32m━━━━━━━━━━━━━━━━━━━━\u001b[0m\u001b[37m\u001b[0m \u001b[1m10s\u001b[0m 4ms/step - loss: 906.6746\n",
            "Epoch 5/10\n",
            "\u001b[1m2376/2376\u001b[0m \u001b[32m━━━━━━━━━━━━━━━━━━━━\u001b[0m\u001b[37m\u001b[0m \u001b[1m11s\u001b[0m 4ms/step - loss: 901.6563\n",
            "Epoch 6/10\n",
            "\u001b[1m2376/2376\u001b[0m \u001b[32m━━━━━━━━━━━━━━━━━━━━\u001b[0m\u001b[37m\u001b[0m \u001b[1m4s\u001b[0m 2ms/step - loss: 883.6168\n",
            "Epoch 7/10\n",
            "\u001b[1m2376/2376\u001b[0m \u001b[32m━━━━━━━━━━━━━━━━━━━━\u001b[0m\u001b[37m\u001b[0m \u001b[1m5s\u001b[0m 2ms/step - loss: 885.2050\n",
            "Epoch 8/10\n",
            "\u001b[1m2376/2376\u001b[0m \u001b[32m━━━━━━━━━━━━━━━━━━━━\u001b[0m\u001b[37m\u001b[0m \u001b[1m4s\u001b[0m 2ms/step - loss: 879.8459\n",
            "Epoch 9/10\n",
            "\u001b[1m2376/2376\u001b[0m \u001b[32m━━━━━━━━━━━━━━━━━━━━\u001b[0m\u001b[37m\u001b[0m \u001b[1m5s\u001b[0m 2ms/step - loss: 863.8932\n",
            "Epoch 10/10\n",
            "\u001b[1m2376/2376\u001b[0m \u001b[32m━━━━━━━━━━━━━━━━━━━━\u001b[0m\u001b[37m\u001b[0m \u001b[1m5s\u001b[0m 2ms/step - loss: 876.3975\n"
          ]
        }
      ],
      "source": [
        "# Import necessary libraries\n",
        "from tensorflow import keras                               # keras: Part of TensorFlow, used for creating and training deep learning models.\n",
        "from tensorflow.keras.layers import Dense                  # Dense: A fully connected layer in a neural network\n",
        "from scikeras.wrappers import KerasRegressor               # A wrapper from scikeras that allows using Keras models with scikit-learn's API\n",
        "\n",
        "# Define the model building function\n",
        "def model_build_fn():\n",
        "    \"\"\"\n",
        "    Creates and compiles a Keras model.\n",
        "\n",
        "    Returns:\n",
        "        keras.Model: The compiled Keras model.\n",
        "    \"\"\"\n",
        "    model = keras.Sequential([\n",
        "        Dense(64, activation='relu', input_shape=(X.shape[1],)),  # Input shape based on X\n",
        "        Dense(32, activation='relu'),\n",
        "        Dense(1)  # Output layer for regression\n",
        "    ])\n",
        "    model.compile(loss='mean_squared_error', optimizer='adam')\n",
        "    return model\n",
        "\n",
        "# Use KerasRegressor\n",
        "model = KerasRegressor(build_fn=model_build_fn, epochs=10, batch_size=32)\n",
        "\n",
        "# Fit the model\n",
        "model.fit(X, y)\n",
        "\n",
        "# Save the model in the native Keras format\n",
        "keras_model = model.model_  # Access the fitted Keras model\n",
        "keras_model.save('ipl_score_prediction_model.keras')  # Save in the new format\n"
      ]
    },
    {
      "cell_type": "markdown",
      "metadata": {
        "id": "WGjlBqJ3ypHb"
      },
      "source": [
        "# 18. Actual vs Predicted scores"
      ]
    },
    {
      "cell_type": "markdown",
      "metadata": {
        "id": "kRkWjmdrxzhL"
      },
      "source": [
        "creating a DataFrame for comparing the actual scores (y_test) with the predicted scores (predictions) from the trained neural network model."
      ]
    },
    {
      "cell_type": "code",
      "execution_count": null,
      "metadata": {
        "colab": {
          "base_uri": "https://localhost:8080/",
          "height": 381
        },
        "id": "uCSkHVELvCM1",
        "outputId": "3a79457f-b94d-4e01-fedf-7447e9c86f5b"
      },
      "outputs": [
        {
          "name": "stdout",
          "output_type": "stream",
          "text": [
            "\u001b[1m713/713\u001b[0m \u001b[32m━━━━━━━━━━━━━━━━━━━━\u001b[0m\u001b[37m\u001b[0m \u001b[1m1s\u001b[0m 802us/step\n"
          ]
        },
        {
          "data": {
            "application/vnd.google.colaboratory.intrinsic+json": {
              "summary": "{\n  \"name\": \"results\",\n  \"rows\": 22805,\n  \"fields\": [\n    {\n      \"column\": \"Actual Score\",\n      \"properties\": {\n        \"dtype\": \"number\",\n        \"std\": 29,\n        \"min\": 67,\n        \"max\": 263,\n        \"num_unique_values\": 138,\n        \"samples\": [\n          159,\n          235,\n          179\n        ],\n        \"semantic_type\": \"\",\n        \"description\": \"\"\n      }\n    },\n    {\n      \"column\": \"Predicted Score\",\n      \"properties\": {\n        \"dtype\": \"float32\",\n        \"num_unique_values\": 10961,\n        \"samples\": [\n          147.0459442138672,\n          147.6815948486328,\n          148.2155303955078\n        ],\n        \"semantic_type\": \"\",\n        \"description\": \"\"\n      }\n    }\n  ]\n}",
              "type": "dataframe",
              "variable_name": "results"
            },
            "text/html": [
              "\n",
              "  <div id=\"df-a7271bb6-c616-4b7f-8db5-0c67513b7681\" class=\"colab-df-container\">\n",
              "    <div>\n",
              "<style scoped>\n",
              "    .dataframe tbody tr th:only-of-type {\n",
              "        vertical-align: middle;\n",
              "    }\n",
              "\n",
              "    .dataframe tbody tr th {\n",
              "        vertical-align: top;\n",
              "    }\n",
              "\n",
              "    .dataframe thead th {\n",
              "        text-align: right;\n",
              "    }\n",
              "</style>\n",
              "<table border=\"1\" class=\"dataframe\">\n",
              "  <thead>\n",
              "    <tr style=\"text-align: right;\">\n",
              "      <th></th>\n",
              "      <th>Actual Score</th>\n",
              "      <th>Predicted Score</th>\n",
              "    </tr>\n",
              "  </thead>\n",
              "  <tbody>\n",
              "    <tr>\n",
              "      <th>0</th>\n",
              "      <td>134</td>\n",
              "      <td>147.061417</td>\n",
              "    </tr>\n",
              "    <tr>\n",
              "      <th>1</th>\n",
              "      <td>195</td>\n",
              "      <td>147.385025</td>\n",
              "    </tr>\n",
              "    <tr>\n",
              "      <th>2</th>\n",
              "      <td>183</td>\n",
              "      <td>147.690506</td>\n",
              "    </tr>\n",
              "    <tr>\n",
              "      <th>3</th>\n",
              "      <td>183</td>\n",
              "      <td>146.552170</td>\n",
              "    </tr>\n",
              "    <tr>\n",
              "      <th>4</th>\n",
              "      <td>193</td>\n",
              "      <td>147.851868</td>\n",
              "    </tr>\n",
              "    <tr>\n",
              "      <th>5</th>\n",
              "      <td>136</td>\n",
              "      <td>146.620926</td>\n",
              "    </tr>\n",
              "    <tr>\n",
              "      <th>6</th>\n",
              "      <td>186</td>\n",
              "      <td>147.898117</td>\n",
              "    </tr>\n",
              "    <tr>\n",
              "      <th>7</th>\n",
              "      <td>176</td>\n",
              "      <td>143.604370</td>\n",
              "    </tr>\n",
              "    <tr>\n",
              "      <th>8</th>\n",
              "      <td>148</td>\n",
              "      <td>148.641861</td>\n",
              "    </tr>\n",
              "    <tr>\n",
              "      <th>9</th>\n",
              "      <td>135</td>\n",
              "      <td>147.418961</td>\n",
              "    </tr>\n",
              "  </tbody>\n",
              "</table>\n",
              "</div>\n",
              "    <div class=\"colab-df-buttons\">\n",
              "\n",
              "  <div class=\"colab-df-container\">\n",
              "    <button class=\"colab-df-convert\" onclick=\"convertToInteractive('df-a7271bb6-c616-4b7f-8db5-0c67513b7681')\"\n",
              "            title=\"Convert this dataframe to an interactive table.\"\n",
              "            style=\"display:none;\">\n",
              "\n",
              "  <svg xmlns=\"http://www.w3.org/2000/svg\" height=\"24px\" viewBox=\"0 -960 960 960\">\n",
              "    <path d=\"M120-120v-720h720v720H120Zm60-500h600v-160H180v160Zm220 220h160v-160H400v160Zm0 220h160v-160H400v160ZM180-400h160v-160H180v160Zm440 0h160v-160H620v160ZM180-180h160v-160H180v160Zm440 0h160v-160H620v160Z\"/>\n",
              "  </svg>\n",
              "    </button>\n",
              "\n",
              "  <style>\n",
              "    .colab-df-container {\n",
              "      display:flex;\n",
              "      gap: 12px;\n",
              "    }\n",
              "\n",
              "    .colab-df-convert {\n",
              "      background-color: #E8F0FE;\n",
              "      border: none;\n",
              "      border-radius: 50%;\n",
              "      cursor: pointer;\n",
              "      display: none;\n",
              "      fill: #1967D2;\n",
              "      height: 32px;\n",
              "      padding: 0 0 0 0;\n",
              "      width: 32px;\n",
              "    }\n",
              "\n",
              "    .colab-df-convert:hover {\n",
              "      background-color: #E2EBFA;\n",
              "      box-shadow: 0px 1px 2px rgba(60, 64, 67, 0.3), 0px 1px 3px 1px rgba(60, 64, 67, 0.15);\n",
              "      fill: #174EA6;\n",
              "    }\n",
              "\n",
              "    .colab-df-buttons div {\n",
              "      margin-bottom: 4px;\n",
              "    }\n",
              "\n",
              "    [theme=dark] .colab-df-convert {\n",
              "      background-color: #3B4455;\n",
              "      fill: #D2E3FC;\n",
              "    }\n",
              "\n",
              "    [theme=dark] .colab-df-convert:hover {\n",
              "      background-color: #434B5C;\n",
              "      box-shadow: 0px 1px 3px 1px rgba(0, 0, 0, 0.15);\n",
              "      filter: drop-shadow(0px 1px 2px rgba(0, 0, 0, 0.3));\n",
              "      fill: #FFFFFF;\n",
              "    }\n",
              "  </style>\n",
              "\n",
              "    <script>\n",
              "      const buttonEl =\n",
              "        document.querySelector('#df-a7271bb6-c616-4b7f-8db5-0c67513b7681 button.colab-df-convert');\n",
              "      buttonEl.style.display =\n",
              "        google.colab.kernel.accessAllowed ? 'block' : 'none';\n",
              "\n",
              "      async function convertToInteractive(key) {\n",
              "        const element = document.querySelector('#df-a7271bb6-c616-4b7f-8db5-0c67513b7681');\n",
              "        const dataTable =\n",
              "          await google.colab.kernel.invokeFunction('convertToInteractive',\n",
              "                                                    [key], {});\n",
              "        if (!dataTable) return;\n",
              "\n",
              "        const docLinkHtml = 'Like what you see? Visit the ' +\n",
              "          '<a target=\"_blank\" href=https://colab.research.google.com/notebooks/data_table.ipynb>data table notebook</a>'\n",
              "          + ' to learn more about interactive tables.';\n",
              "        element.innerHTML = '';\n",
              "        dataTable['output_type'] = 'display_data';\n",
              "        await google.colab.output.renderOutput(dataTable, element);\n",
              "        const docLink = document.createElement('div');\n",
              "        docLink.innerHTML = docLinkHtml;\n",
              "        element.appendChild(docLink);\n",
              "      }\n",
              "    </script>\n",
              "  </div>\n",
              "\n",
              "\n",
              "    <div id=\"df-8dc20bec-e548-46a8-82a6-559571e232b4\">\n",
              "      <button class=\"colab-df-quickchart\" onclick=\"quickchart('df-8dc20bec-e548-46a8-82a6-559571e232b4')\"\n",
              "                title=\"Suggest charts\"\n",
              "                style=\"display:none;\">\n",
              "\n",
              "<svg xmlns=\"http://www.w3.org/2000/svg\" height=\"24px\"viewBox=\"0 0 24 24\"\n",
              "     width=\"24px\">\n",
              "    <g>\n",
              "        <path d=\"M19 3H5c-1.1 0-2 .9-2 2v14c0 1.1.9 2 2 2h14c1.1 0 2-.9 2-2V5c0-1.1-.9-2-2-2zM9 17H7v-7h2v7zm4 0h-2V7h2v10zm4 0h-2v-4h2v4z\"/>\n",
              "    </g>\n",
              "</svg>\n",
              "      </button>\n",
              "\n",
              "<style>\n",
              "  .colab-df-quickchart {\n",
              "      --bg-color: #E8F0FE;\n",
              "      --fill-color: #1967D2;\n",
              "      --hover-bg-color: #E2EBFA;\n",
              "      --hover-fill-color: #174EA6;\n",
              "      --disabled-fill-color: #AAA;\n",
              "      --disabled-bg-color: #DDD;\n",
              "  }\n",
              "\n",
              "  [theme=dark] .colab-df-quickchart {\n",
              "      --bg-color: #3B4455;\n",
              "      --fill-color: #D2E3FC;\n",
              "      --hover-bg-color: #434B5C;\n",
              "      --hover-fill-color: #FFFFFF;\n",
              "      --disabled-bg-color: #3B4455;\n",
              "      --disabled-fill-color: #666;\n",
              "  }\n",
              "\n",
              "  .colab-df-quickchart {\n",
              "    background-color: var(--bg-color);\n",
              "    border: none;\n",
              "    border-radius: 50%;\n",
              "    cursor: pointer;\n",
              "    display: none;\n",
              "    fill: var(--fill-color);\n",
              "    height: 32px;\n",
              "    padding: 0;\n",
              "    width: 32px;\n",
              "  }\n",
              "\n",
              "  .colab-df-quickchart:hover {\n",
              "    background-color: var(--hover-bg-color);\n",
              "    box-shadow: 0 1px 2px rgba(60, 64, 67, 0.3), 0 1px 3px 1px rgba(60, 64, 67, 0.15);\n",
              "    fill: var(--button-hover-fill-color);\n",
              "  }\n",
              "\n",
              "  .colab-df-quickchart-complete:disabled,\n",
              "  .colab-df-quickchart-complete:disabled:hover {\n",
              "    background-color: var(--disabled-bg-color);\n",
              "    fill: var(--disabled-fill-color);\n",
              "    box-shadow: none;\n",
              "  }\n",
              "\n",
              "  .colab-df-spinner {\n",
              "    border: 2px solid var(--fill-color);\n",
              "    border-color: transparent;\n",
              "    border-bottom-color: var(--fill-color);\n",
              "    animation:\n",
              "      spin 1s steps(1) infinite;\n",
              "  }\n",
              "\n",
              "  @keyframes spin {\n",
              "    0% {\n",
              "      border-color: transparent;\n",
              "      border-bottom-color: var(--fill-color);\n",
              "      border-left-color: var(--fill-color);\n",
              "    }\n",
              "    20% {\n",
              "      border-color: transparent;\n",
              "      border-left-color: var(--fill-color);\n",
              "      border-top-color: var(--fill-color);\n",
              "    }\n",
              "    30% {\n",
              "      border-color: transparent;\n",
              "      border-left-color: var(--fill-color);\n",
              "      border-top-color: var(--fill-color);\n",
              "      border-right-color: var(--fill-color);\n",
              "    }\n",
              "    40% {\n",
              "      border-color: transparent;\n",
              "      border-right-color: var(--fill-color);\n",
              "      border-top-color: var(--fill-color);\n",
              "    }\n",
              "    60% {\n",
              "      border-color: transparent;\n",
              "      border-right-color: var(--fill-color);\n",
              "    }\n",
              "    80% {\n",
              "      border-color: transparent;\n",
              "      border-right-color: var(--fill-color);\n",
              "      border-bottom-color: var(--fill-color);\n",
              "    }\n",
              "    90% {\n",
              "      border-color: transparent;\n",
              "      border-bottom-color: var(--fill-color);\n",
              "    }\n",
              "  }\n",
              "</style>\n",
              "\n",
              "      <script>\n",
              "        async function quickchart(key) {\n",
              "          const quickchartButtonEl =\n",
              "            document.querySelector('#' + key + ' button');\n",
              "          quickchartButtonEl.disabled = true;  // To prevent multiple clicks.\n",
              "          quickchartButtonEl.classList.add('colab-df-spinner');\n",
              "          try {\n",
              "            const charts = await google.colab.kernel.invokeFunction(\n",
              "                'suggestCharts', [key], {});\n",
              "          } catch (error) {\n",
              "            console.error('Error during call to suggestCharts:', error);\n",
              "          }\n",
              "          quickchartButtonEl.classList.remove('colab-df-spinner');\n",
              "          quickchartButtonEl.classList.add('colab-df-quickchart-complete');\n",
              "        }\n",
              "        (() => {\n",
              "          let quickchartButtonEl =\n",
              "            document.querySelector('#df-8dc20bec-e548-46a8-82a6-559571e232b4 button');\n",
              "          quickchartButtonEl.style.display =\n",
              "            google.colab.kernel.accessAllowed ? 'block' : 'none';\n",
              "        })();\n",
              "      </script>\n",
              "    </div>\n",
              "\n",
              "    </div>\n",
              "  </div>\n"
            ],
            "text/plain": [
              "   Actual Score  Predicted Score\n",
              "0           134       147.061417\n",
              "1           195       147.385025\n",
              "2           183       147.690506\n",
              "3           183       146.552170\n",
              "4           193       147.851868\n",
              "5           136       146.620926\n",
              "6           186       147.898117\n",
              "7           176       143.604370\n",
              "8           148       148.641861\n",
              "9           135       147.418961"
            ]
          },
          "execution_count": 54,
          "metadata": {},
          "output_type": "execute_result"
        }
      ],
      "source": [
        "# Create a DataFrame for comparison\n",
        "import pandas as pd\n",
        "predictions = model.model_.predict(X_test_scaled)  # Use the final fitted Keras model\n",
        "results = pd.DataFrame({\n",
        "    'Actual Score': y_test.values,                 # stores actual values\n",
        "    'Predicted Score': predictions.flatten()       # stores predicted values\n",
        "})\n",
        "results.head(10)  # Display the first 10 rows\n"
      ]
    },
    {
      "cell_type": "markdown",
      "metadata": {
        "id": "Gn-yU3QizRaY"
      },
      "source": [
        "This allows users to input match details (venue, two teams) and get predictions for the scores of both innings, as well as the winner of the match. It uses the trained neural network model to make these predictions based on the input data."
      ]
    },
    {
      "cell_type": "code",
      "execution_count": null,
      "metadata": {
        "colab": {
          "base_uri": "https://localhost:8080/",
          "height": 141,
          "referenced_widgets": [
            "319978f5bf7e488a942d3d5d51714009",
            "e88bd4c5c4744914947380105f9513ec",
            "c14b59cb724e42468548c0f835f7c572",
            "19c5eabc610c4ba5ae1a3dc1223f6efd",
            "420b3af550184977990b3355ec0dcbf6",
            "54a92cb429d049f2a3e745e78fb7467f",
            "4427647c14f44b06aef8e9f883b10ab1",
            "b2bcfa3dc4c64d28afbcabc32f52437d",
            "673d7afd141445b3a5f8eab25f5e046c",
            "44056cdb6c3c4ef9a03afe04811d2bac",
            "b0b2f7a41f8a403ca74b72dfe15e0026",
            "9c34999891f3466f93c5d827a0c2e104",
            "836f70eff93b49439804a9e2a49c4802",
            "6822139d240948d19692e774e452c60b"
          ]
        },
        "id": "F1RCcfj7wFV4",
        "outputId": "998dd8d8-ca80-4c00-954f-9ddb651dc33d"
      },
      "outputs": [
        {
          "data": {
            "application/vnd.jupyter.widget-view+json": {
              "model_id": "319978f5bf7e488a942d3d5d51714009",
              "version_major": 2,
              "version_minor": 0
            },
            "text/plain": [
              "Dropdown(description='Venue:', options=('M Chinnaswamy Stadium', 'Punjab Cricket Association Stadium, Mohali',…"
            ]
          },
          "metadata": {},
          "output_type": "display_data"
        },
        {
          "data": {
            "application/vnd.jupyter.widget-view+json": {
              "model_id": "19c5eabc610c4ba5ae1a3dc1223f6efd",
              "version_major": 2,
              "version_minor": 0
            },
            "text/plain": [
              "Dropdown(description='Team 1:', options=('Kolkata Knight Riders', 'Chennai Super Kings', 'Rajasthan Royals', '…"
            ]
          },
          "metadata": {},
          "output_type": "display_data"
        },
        {
          "data": {
            "application/vnd.jupyter.widget-view+json": {
              "model_id": "4427647c14f44b06aef8e9f883b10ab1",
              "version_major": 2,
              "version_minor": 0
            },
            "text/plain": [
              "Dropdown(description='Team 2:', options=('Kolkata Knight Riders', 'Chennai Super Kings', 'Rajasthan Royals', '…"
            ]
          },
          "metadata": {},
          "output_type": "display_data"
        },
        {
          "data": {
            "application/vnd.jupyter.widget-view+json": {
              "model_id": "44056cdb6c3c4ef9a03afe04811d2bac",
              "version_major": 2,
              "version_minor": 0
            },
            "text/plain": [
              "Button(description='Predict Scores and Winner', style=ButtonStyle())"
            ]
          },
          "metadata": {},
          "output_type": "display_data"
        },
        {
          "data": {
            "application/vnd.jupyter.widget-view+json": {
              "model_id": "836f70eff93b49439804a9e2a49c4802",
              "version_major": 2,
              "version_minor": 0
            },
            "text/plain": [
              "Output()"
            ]
          },
          "metadata": {},
          "output_type": "display_data"
        }
      ],
      "source": [
        "import ipywidgets as widgets\n",
        "from IPython.display import display, clear_output\n",
        "\n",
        "# Widgets for inputs\n",
        "venue = widgets.Dropdown(options=df['venue'].unique().tolist(), description='Venue:')\n",
        "team1 = widgets.Dropdown(options=df['bat_team'].unique().tolist(), description='Team 1:')\n",
        "team2 = widgets.Dropdown(options=df['bat_team'].unique().tolist(), description='Team 2:')\n",
        "\n",
        "# Predict Button\n",
        "predict_button = widgets.Button(description=\"Predict Scores and Winner\")\n",
        "output = widgets.Output()\n",
        "\n",
        "# Prediction and Winner Declaration Function\n",
        "def predict_scores_and_winner(b):\n",
        "    with output:\n",
        "        clear_output()  # Clear previous output\n",
        "\n",
        "        # Encode the input data\n",
        "        encoded_venue = venue_encoder.transform([venue.value])[0]\n",
        "        team1_encoded = batting_team_encoder.transform([team1.value])[0]\n",
        "        team2_encoded = bowling_team_encoder.transform([team2.value])[0]\n",
        "\n",
        "        # Add placeholder values for striker and bowler (since we don't need them)\n",
        "        placeholder_striker = 0  # Using 0 for missing striker\n",
        "        placeholder_bowler = 0  # Using 0 for missing bowler\n",
        "\n",
        "        # First-innings Prediction: Team 1 batting, Team 2 bowling\n",
        "        first_innings_input = [[encoded_venue, team1_encoded, team2_encoded, placeholder_striker, placeholder_bowler]]\n",
        "        first_innings_scaled = scaler.transform(first_innings_input)\n",
        "        first_innings_score = model.model_.predict(first_innings_scaled)[0][0]  # Extract scalar\n",
        "\n",
        "        # Second-innings Prediction: Team 2 batting, Team 1 bowling\n",
        "        second_innings_input = [[encoded_venue, team2_encoded, team1_encoded, placeholder_striker, placeholder_bowler]]\n",
        "        second_innings_scaled = scaler.transform(second_innings_input)\n",
        "        second_innings_score = model.model_.predict(second_innings_scaled)[0][0]  # Extract scalar\n",
        "\n",
        "        # Determine Winner\n",
        "        if second_innings_score > first_innings_score:\n",
        "            winner = team2.value\n",
        "        else:\n",
        "            winner = team1.value\n",
        "\n",
        "        # Display Results\n",
        "        print(f\"Venue: {venue.value}\")\n",
        "        print(f\"Team 1 (Batting First): {team1.value}\")\n",
        "        print(f\"Team 2 (Chasing): {team2.value}\")\n",
        "        print(f\"Predicted First-Innings Score (Team 1): {first_innings_score:.2f}\")\n",
        "        print(f\"Predicted Second-Innings Score (Team 2): {second_innings_score:.2f}\")\n",
        "        print(f\"Winner: {winner}\")\n",
        "\n",
        "# Link button to function\n",
        "predict_button.on_click(predict_scores_and_winner)\n",
        "\n",
        "# Display widgets\n",
        "display(venue, team1, team2, predict_button, output)\n"
      ]
    }
  ],
  "metadata": {
    "colab": {
      "provenance": [],
      "include_colab_link": true
    },
    "kernelspec": {
      "display_name": "Python 3",
      "name": "python3"
    },
    "language_info": {
      "name": "python"
    }
  },
  "nbformat": 4,
  "nbformat_minor": 0
}